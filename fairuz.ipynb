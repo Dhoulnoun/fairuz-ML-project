{
  "nbformat": 4,
  "nbformat_minor": 0,
  "metadata": {
    "colab": {
      "provenance": [],
      "toc_visible": true,
      "include_colab_link": true
    },
    "kernelspec": {
      "name": "python3",
      "display_name": "Python 3"
    },
    "language_info": {
      "name": "python"
    }
  },
  "cells": [
    {
      "cell_type": "markdown",
      "metadata": {
        "id": "view-in-github",
        "colab_type": "text"
      },
      "source": [
        "<a href=\"https://colab.research.google.com/github/Dhoulnoun/fairuz-ML-project/blob/master/fairuz.ipynb\" target=\"_parent\"><img src=\"https://colab.research.google.com/assets/colab-badge.svg\" alt=\"Open In Colab\"/></a>"
      ]
    },
    {
      "cell_type": "markdown",
      "source": [
        "# Fairuz ML Project"
      ],
      "metadata": {
        "id": "5kJ4I1lWSv7H"
      }
    },
    {
      "cell_type": "markdown",
      "source": [
        "[Lien du dataset original](https://www.openml.org/search?type=data&sort=runs&status=active&qualities.NumberOfInstances=between_10000_100000&qualities.NumberOfFeatures=between_10_100&qualities.NumberOfClasses=gte_-1&format=ARFF&id=1461)"
      ],
      "metadata": {
        "id": "hBbflOIBn7c4"
      }
    },
    {
      "cell_type": "markdown",
      "source": [
        "Le projet est de définir un modèle étant capable de prédire plus ou moins si un client bancaire va souscrire à un 'term deposit'."
      ],
      "metadata": {
        "id": "B-daSNSNkaEG"
      }
    },
    {
      "cell_type": "markdown",
      "source": [
        "\n",
        "\n",
        "---\n",
        "\n"
      ],
      "metadata": {
        "id": "FaDUixgTkfO0"
      }
    },
    {
      "cell_type": "markdown",
      "source": [
        "## Imports"
      ],
      "metadata": {
        "id": "a8454ptyEF7S"
      }
    },
    {
      "cell_type": "code",
      "source": [
        "import pandas as pd\n",
        "from scipy.io import arff\n",
        "import requests\n",
        "import matplotlib.pyplot as plt\n",
        "import seaborn as sns\n",
        "import numpy as np\n",
        "from sklearn.compose import ColumnTransformer\n",
        "from sklearn.pipeline import Pipeline\n",
        "from sklearn.preprocessing import OneHotEncoder, StandardScaler, FunctionTransformer, OrdinalEncoder\n",
        "from sklearn.ensemble import RandomForestClassifier\n",
        "from sklearn.model_selection import train_test_split, cross_val_score, StratifiedKFold, GridSearchCV\n",
        "from sklearn.metrics import classification_report, confusion_matrix, make_scorer, f1_score, auc, roc_curve\n",
        "from lightgbm import LGBMClassifier\n",
        "from sklearn.linear_model import LogisticRegression\n",
        "from imblearn.over_sampling import SMOTE\n",
        "from sklearn.utils import resample\n"
      ],
      "metadata": {
        "id": "8cV9cZnVEE0h"
      },
      "execution_count": 34,
      "outputs": []
    },
    {
      "cell_type": "markdown",
      "source": [
        "## Introduction"
      ],
      "metadata": {
        "id": "nuNUONuwS0ou"
      }
    },
    {
      "cell_type": "markdown",
      "source": [
        "Tout d’abord, encadrons le problème :\n",
        "\n",
        "• **Est-ce un apprentissage supervisé, non supervisé ou par renforcement ?**\n",
        "\n",
        "  C’est de l’apprentissage supervisé car chaque instance dispose d’une cible correspondante.\n",
        "\n",
        "\n",
        "• **S’agit-il d’une tâche de classification, de régression ou autre ?**\n",
        "\n",
        "  C’est une tâche de classification car nos cibles sont de nature catégorielle.\n",
        "\n",
        "• **Devriez-vous utiliser des techniques d’apprentissage par lots (batch learning) ou d’apprentissage en ligne (online learning) ?**\n",
        "\n",
        "  Nous devrions utiliser l’apprentissage par lots car notre dataset n’est pas très volumineux et n’est pas un flux de données en temps réel.\n"
      ],
      "metadata": {
        "id": "VZh5E8CD_gCg"
      }
    },
    {
      "cell_type": "code",
      "execution_count": 35,
      "metadata": {
        "id": "IZ2jOjgcCZ4O",
        "outputId": "01104b74-64e0-4f73-ba9c-3aacbbce10b8",
        "colab": {
          "base_uri": "https://localhost:8080/"
        }
      },
      "outputs": [
        {
          "output_type": "stream",
          "name": "stdout",
          "text": [
            "<class 'pandas.core.frame.DataFrame'>\n",
            "RangeIndex: 45211 entries, 0 to 45210\n",
            "Data columns (total 17 columns):\n",
            " #   Column  Non-Null Count  Dtype  \n",
            "---  ------  --------------  -----  \n",
            " 0   V1      45211 non-null  float64\n",
            " 1   V2      45211 non-null  object \n",
            " 2   V3      45211 non-null  object \n",
            " 3   V4      45211 non-null  object \n",
            " 4   V5      45211 non-null  object \n",
            " 5   V6      45211 non-null  float64\n",
            " 6   V7      45211 non-null  object \n",
            " 7   V8      45211 non-null  object \n",
            " 8   V9      45211 non-null  object \n",
            " 9   V10     45211 non-null  float64\n",
            " 10  V11     45211 non-null  object \n",
            " 11  V12     45211 non-null  float64\n",
            " 12  V13     45211 non-null  float64\n",
            " 13  V14     45211 non-null  float64\n",
            " 14  V15     45211 non-null  float64\n",
            " 15  V16     45211 non-null  object \n",
            " 16  Class   45211 non-null  object \n",
            "dtypes: float64(7), object(10)\n",
            "memory usage: 5.9+ MB\n"
          ]
        }
      ],
      "source": [
        "r = requests.get(\"https://www.openml.org/data/download/1586218/phpkIxskf\")\n",
        "with open(\"/content/fairuz.arff\", \"wb\") as f:\n",
        "  f.write(r.content)\n",
        "\n",
        "\n",
        "arff_file = arff.loadarff('/content/fairuz.arff')\n",
        "df = pd.DataFrame(arff_file[0])\n",
        "\n",
        "df.info()"
      ]
    },
    {
      "cell_type": "markdown",
      "source": [
        "45211 entrées\n",
        "\n",
        "17 features\n",
        "\n",
        "On peut voir beaucoup de feature catégorielle qu'il nous sera nécessaire de traiter. De plus nous n'avons aucune feature avec des valeurs absentes"
      ],
      "metadata": {
        "id": "zZFW93e_kjfe"
      }
    },
    {
      "cell_type": "markdown",
      "source": [
        "\n",
        "\n",
        "---\n",
        "\n"
      ],
      "metadata": {
        "id": "OWH4kxTAFx1c"
      }
    },
    {
      "cell_type": "markdown",
      "source": [
        "## Data Exploration\n"
      ],
      "metadata": {
        "id": "yRm4Ys1bS757"
      }
    },
    {
      "cell_type": "markdown",
      "source": [
        "### Répartition des features"
      ],
      "metadata": {
        "id": "zDOPUyBRUVEB"
      }
    },
    {
      "cell_type": "markdown",
      "source": [
        "\n",
        "\n",
        "\n",
        "Maintenant voyons la répartition des features numériques"
      ],
      "metadata": {
        "id": "kbq1PP1skhES"
      }
    },
    {
      "cell_type": "code",
      "source": [
        "df.describe()"
      ],
      "metadata": {
        "id": "CxcXJ8NyOEw8",
        "outputId": "0078512a-3fde-459b-8f6a-399dfa84069c",
        "colab": {
          "base_uri": "https://localhost:8080/",
          "height": 320
        }
      },
      "execution_count": 36,
      "outputs": [
        {
          "output_type": "execute_result",
          "data": {
            "text/plain": [
              "                 V1             V6           V10           V12           V13  \\\n",
              "count  45211.000000   45211.000000  45211.000000  45211.000000  45211.000000   \n",
              "mean      40.936210    1362.272058     15.806419    258.163080      2.763841   \n",
              "std       10.618762    3044.765829      8.322476    257.527812      3.098021   \n",
              "min       18.000000   -8019.000000      1.000000      0.000000      1.000000   \n",
              "25%       33.000000      72.000000      8.000000    103.000000      1.000000   \n",
              "50%       39.000000     448.000000     16.000000    180.000000      2.000000   \n",
              "75%       48.000000    1428.000000     21.000000    319.000000      3.000000   \n",
              "max       95.000000  102127.000000     31.000000   4918.000000     63.000000   \n",
              "\n",
              "                V14           V15  \n",
              "count  45211.000000  45211.000000  \n",
              "mean      40.197828      0.580323  \n",
              "std      100.128746      2.303441  \n",
              "min       -1.000000      0.000000  \n",
              "25%       -1.000000      0.000000  \n",
              "50%       -1.000000      0.000000  \n",
              "75%       -1.000000      0.000000  \n",
              "max      871.000000    275.000000  "
            ],
            "text/html": [
              "\n",
              "  <div id=\"df-2862d0d3-df58-47af-bbda-b2de9abb377e\" class=\"colab-df-container\">\n",
              "    <div>\n",
              "<style scoped>\n",
              "    .dataframe tbody tr th:only-of-type {\n",
              "        vertical-align: middle;\n",
              "    }\n",
              "\n",
              "    .dataframe tbody tr th {\n",
              "        vertical-align: top;\n",
              "    }\n",
              "\n",
              "    .dataframe thead th {\n",
              "        text-align: right;\n",
              "    }\n",
              "</style>\n",
              "<table border=\"1\" class=\"dataframe\">\n",
              "  <thead>\n",
              "    <tr style=\"text-align: right;\">\n",
              "      <th></th>\n",
              "      <th>V1</th>\n",
              "      <th>V6</th>\n",
              "      <th>V10</th>\n",
              "      <th>V12</th>\n",
              "      <th>V13</th>\n",
              "      <th>V14</th>\n",
              "      <th>V15</th>\n",
              "    </tr>\n",
              "  </thead>\n",
              "  <tbody>\n",
              "    <tr>\n",
              "      <th>count</th>\n",
              "      <td>45211.000000</td>\n",
              "      <td>45211.000000</td>\n",
              "      <td>45211.000000</td>\n",
              "      <td>45211.000000</td>\n",
              "      <td>45211.000000</td>\n",
              "      <td>45211.000000</td>\n",
              "      <td>45211.000000</td>\n",
              "    </tr>\n",
              "    <tr>\n",
              "      <th>mean</th>\n",
              "      <td>40.936210</td>\n",
              "      <td>1362.272058</td>\n",
              "      <td>15.806419</td>\n",
              "      <td>258.163080</td>\n",
              "      <td>2.763841</td>\n",
              "      <td>40.197828</td>\n",
              "      <td>0.580323</td>\n",
              "    </tr>\n",
              "    <tr>\n",
              "      <th>std</th>\n",
              "      <td>10.618762</td>\n",
              "      <td>3044.765829</td>\n",
              "      <td>8.322476</td>\n",
              "      <td>257.527812</td>\n",
              "      <td>3.098021</td>\n",
              "      <td>100.128746</td>\n",
              "      <td>2.303441</td>\n",
              "    </tr>\n",
              "    <tr>\n",
              "      <th>min</th>\n",
              "      <td>18.000000</td>\n",
              "      <td>-8019.000000</td>\n",
              "      <td>1.000000</td>\n",
              "      <td>0.000000</td>\n",
              "      <td>1.000000</td>\n",
              "      <td>-1.000000</td>\n",
              "      <td>0.000000</td>\n",
              "    </tr>\n",
              "    <tr>\n",
              "      <th>25%</th>\n",
              "      <td>33.000000</td>\n",
              "      <td>72.000000</td>\n",
              "      <td>8.000000</td>\n",
              "      <td>103.000000</td>\n",
              "      <td>1.000000</td>\n",
              "      <td>-1.000000</td>\n",
              "      <td>0.000000</td>\n",
              "    </tr>\n",
              "    <tr>\n",
              "      <th>50%</th>\n",
              "      <td>39.000000</td>\n",
              "      <td>448.000000</td>\n",
              "      <td>16.000000</td>\n",
              "      <td>180.000000</td>\n",
              "      <td>2.000000</td>\n",
              "      <td>-1.000000</td>\n",
              "      <td>0.000000</td>\n",
              "    </tr>\n",
              "    <tr>\n",
              "      <th>75%</th>\n",
              "      <td>48.000000</td>\n",
              "      <td>1428.000000</td>\n",
              "      <td>21.000000</td>\n",
              "      <td>319.000000</td>\n",
              "      <td>3.000000</td>\n",
              "      <td>-1.000000</td>\n",
              "      <td>0.000000</td>\n",
              "    </tr>\n",
              "    <tr>\n",
              "      <th>max</th>\n",
              "      <td>95.000000</td>\n",
              "      <td>102127.000000</td>\n",
              "      <td>31.000000</td>\n",
              "      <td>4918.000000</td>\n",
              "      <td>63.000000</td>\n",
              "      <td>871.000000</td>\n",
              "      <td>275.000000</td>\n",
              "    </tr>\n",
              "  </tbody>\n",
              "</table>\n",
              "</div>\n",
              "    <div class=\"colab-df-buttons\">\n",
              "\n",
              "  <div class=\"colab-df-container\">\n",
              "    <button class=\"colab-df-convert\" onclick=\"convertToInteractive('df-2862d0d3-df58-47af-bbda-b2de9abb377e')\"\n",
              "            title=\"Convert this dataframe to an interactive table.\"\n",
              "            style=\"display:none;\">\n",
              "\n",
              "  <svg xmlns=\"http://www.w3.org/2000/svg\" height=\"24px\" viewBox=\"0 -960 960 960\">\n",
              "    <path d=\"M120-120v-720h720v720H120Zm60-500h600v-160H180v160Zm220 220h160v-160H400v160Zm0 220h160v-160H400v160ZM180-400h160v-160H180v160Zm440 0h160v-160H620v160ZM180-180h160v-160H180v160Zm440 0h160v-160H620v160Z\"/>\n",
              "  </svg>\n",
              "    </button>\n",
              "\n",
              "  <style>\n",
              "    .colab-df-container {\n",
              "      display:flex;\n",
              "      gap: 12px;\n",
              "    }\n",
              "\n",
              "    .colab-df-convert {\n",
              "      background-color: #E8F0FE;\n",
              "      border: none;\n",
              "      border-radius: 50%;\n",
              "      cursor: pointer;\n",
              "      display: none;\n",
              "      fill: #1967D2;\n",
              "      height: 32px;\n",
              "      padding: 0 0 0 0;\n",
              "      width: 32px;\n",
              "    }\n",
              "\n",
              "    .colab-df-convert:hover {\n",
              "      background-color: #E2EBFA;\n",
              "      box-shadow: 0px 1px 2px rgba(60, 64, 67, 0.3), 0px 1px 3px 1px rgba(60, 64, 67, 0.15);\n",
              "      fill: #174EA6;\n",
              "    }\n",
              "\n",
              "    .colab-df-buttons div {\n",
              "      margin-bottom: 4px;\n",
              "    }\n",
              "\n",
              "    [theme=dark] .colab-df-convert {\n",
              "      background-color: #3B4455;\n",
              "      fill: #D2E3FC;\n",
              "    }\n",
              "\n",
              "    [theme=dark] .colab-df-convert:hover {\n",
              "      background-color: #434B5C;\n",
              "      box-shadow: 0px 1px 3px 1px rgba(0, 0, 0, 0.15);\n",
              "      filter: drop-shadow(0px 1px 2px rgba(0, 0, 0, 0.3));\n",
              "      fill: #FFFFFF;\n",
              "    }\n",
              "  </style>\n",
              "\n",
              "    <script>\n",
              "      const buttonEl =\n",
              "        document.querySelector('#df-2862d0d3-df58-47af-bbda-b2de9abb377e button.colab-df-convert');\n",
              "      buttonEl.style.display =\n",
              "        google.colab.kernel.accessAllowed ? 'block' : 'none';\n",
              "\n",
              "      async function convertToInteractive(key) {\n",
              "        const element = document.querySelector('#df-2862d0d3-df58-47af-bbda-b2de9abb377e');\n",
              "        const dataTable =\n",
              "          await google.colab.kernel.invokeFunction('convertToInteractive',\n",
              "                                                    [key], {});\n",
              "        if (!dataTable) return;\n",
              "\n",
              "        const docLinkHtml = 'Like what you see? Visit the ' +\n",
              "          '<a target=\"_blank\" href=https://colab.research.google.com/notebooks/data_table.ipynb>data table notebook</a>'\n",
              "          + ' to learn more about interactive tables.';\n",
              "        element.innerHTML = '';\n",
              "        dataTable['output_type'] = 'display_data';\n",
              "        await google.colab.output.renderOutput(dataTable, element);\n",
              "        const docLink = document.createElement('div');\n",
              "        docLink.innerHTML = docLinkHtml;\n",
              "        element.appendChild(docLink);\n",
              "      }\n",
              "    </script>\n",
              "  </div>\n",
              "\n",
              "\n",
              "<div id=\"df-072aeb80-6941-4f64-ad3a-f91de65a3aac\">\n",
              "  <button class=\"colab-df-quickchart\" onclick=\"quickchart('df-072aeb80-6941-4f64-ad3a-f91de65a3aac')\"\n",
              "            title=\"Suggest charts\"\n",
              "            style=\"display:none;\">\n",
              "\n",
              "<svg xmlns=\"http://www.w3.org/2000/svg\" height=\"24px\"viewBox=\"0 0 24 24\"\n",
              "     width=\"24px\">\n",
              "    <g>\n",
              "        <path d=\"M19 3H5c-1.1 0-2 .9-2 2v14c0 1.1.9 2 2 2h14c1.1 0 2-.9 2-2V5c0-1.1-.9-2-2-2zM9 17H7v-7h2v7zm4 0h-2V7h2v10zm4 0h-2v-4h2v4z\"/>\n",
              "    </g>\n",
              "</svg>\n",
              "  </button>\n",
              "\n",
              "<style>\n",
              "  .colab-df-quickchart {\n",
              "      --bg-color: #E8F0FE;\n",
              "      --fill-color: #1967D2;\n",
              "      --hover-bg-color: #E2EBFA;\n",
              "      --hover-fill-color: #174EA6;\n",
              "      --disabled-fill-color: #AAA;\n",
              "      --disabled-bg-color: #DDD;\n",
              "  }\n",
              "\n",
              "  [theme=dark] .colab-df-quickchart {\n",
              "      --bg-color: #3B4455;\n",
              "      --fill-color: #D2E3FC;\n",
              "      --hover-bg-color: #434B5C;\n",
              "      --hover-fill-color: #FFFFFF;\n",
              "      --disabled-bg-color: #3B4455;\n",
              "      --disabled-fill-color: #666;\n",
              "  }\n",
              "\n",
              "  .colab-df-quickchart {\n",
              "    background-color: var(--bg-color);\n",
              "    border: none;\n",
              "    border-radius: 50%;\n",
              "    cursor: pointer;\n",
              "    display: none;\n",
              "    fill: var(--fill-color);\n",
              "    height: 32px;\n",
              "    padding: 0;\n",
              "    width: 32px;\n",
              "  }\n",
              "\n",
              "  .colab-df-quickchart:hover {\n",
              "    background-color: var(--hover-bg-color);\n",
              "    box-shadow: 0 1px 2px rgba(60, 64, 67, 0.3), 0 1px 3px 1px rgba(60, 64, 67, 0.15);\n",
              "    fill: var(--button-hover-fill-color);\n",
              "  }\n",
              "\n",
              "  .colab-df-quickchart-complete:disabled,\n",
              "  .colab-df-quickchart-complete:disabled:hover {\n",
              "    background-color: var(--disabled-bg-color);\n",
              "    fill: var(--disabled-fill-color);\n",
              "    box-shadow: none;\n",
              "  }\n",
              "\n",
              "  .colab-df-spinner {\n",
              "    border: 2px solid var(--fill-color);\n",
              "    border-color: transparent;\n",
              "    border-bottom-color: var(--fill-color);\n",
              "    animation:\n",
              "      spin 1s steps(1) infinite;\n",
              "  }\n",
              "\n",
              "  @keyframes spin {\n",
              "    0% {\n",
              "      border-color: transparent;\n",
              "      border-bottom-color: var(--fill-color);\n",
              "      border-left-color: var(--fill-color);\n",
              "    }\n",
              "    20% {\n",
              "      border-color: transparent;\n",
              "      border-left-color: var(--fill-color);\n",
              "      border-top-color: var(--fill-color);\n",
              "    }\n",
              "    30% {\n",
              "      border-color: transparent;\n",
              "      border-left-color: var(--fill-color);\n",
              "      border-top-color: var(--fill-color);\n",
              "      border-right-color: var(--fill-color);\n",
              "    }\n",
              "    40% {\n",
              "      border-color: transparent;\n",
              "      border-right-color: var(--fill-color);\n",
              "      border-top-color: var(--fill-color);\n",
              "    }\n",
              "    60% {\n",
              "      border-color: transparent;\n",
              "      border-right-color: var(--fill-color);\n",
              "    }\n",
              "    80% {\n",
              "      border-color: transparent;\n",
              "      border-right-color: var(--fill-color);\n",
              "      border-bottom-color: var(--fill-color);\n",
              "    }\n",
              "    90% {\n",
              "      border-color: transparent;\n",
              "      border-bottom-color: var(--fill-color);\n",
              "    }\n",
              "  }\n",
              "</style>\n",
              "\n",
              "  <script>\n",
              "    async function quickchart(key) {\n",
              "      const quickchartButtonEl =\n",
              "        document.querySelector('#' + key + ' button');\n",
              "      quickchartButtonEl.disabled = true;  // To prevent multiple clicks.\n",
              "      quickchartButtonEl.classList.add('colab-df-spinner');\n",
              "      try {\n",
              "        const charts = await google.colab.kernel.invokeFunction(\n",
              "            'suggestCharts', [key], {});\n",
              "      } catch (error) {\n",
              "        console.error('Error during call to suggestCharts:', error);\n",
              "      }\n",
              "      quickchartButtonEl.classList.remove('colab-df-spinner');\n",
              "      quickchartButtonEl.classList.add('colab-df-quickchart-complete');\n",
              "    }\n",
              "    (() => {\n",
              "      let quickchartButtonEl =\n",
              "        document.querySelector('#df-072aeb80-6941-4f64-ad3a-f91de65a3aac button');\n",
              "      quickchartButtonEl.style.display =\n",
              "        google.colab.kernel.accessAllowed ? 'block' : 'none';\n",
              "    })();\n",
              "  </script>\n",
              "</div>\n",
              "\n",
              "    </div>\n",
              "  </div>\n"
            ],
            "application/vnd.google.colaboratory.intrinsic+json": {
              "type": "dataframe",
              "summary": "{\n  \"name\": \"df\",\n  \"rows\": 8,\n  \"fields\": [\n    {\n      \"column\": \"V1\",\n      \"properties\": {\n        \"dtype\": \"number\",\n        \"std\": 15970.150201692022,\n        \"min\": 10.618762040975431,\n        \"max\": 45211.0,\n        \"num_unique_values\": 8,\n        \"samples\": [\n          40.93621021432837,\n          39.0,\n          45211.0\n        ],\n        \"semantic_type\": \"\",\n        \"description\": \"\"\n      }\n    },\n    {\n      \"column\": \"V6\",\n      \"properties\": {\n        \"dtype\": \"number\",\n        \"std\": 37605.126555585215,\n        \"min\": -8019.0,\n        \"max\": 102127.0,\n        \"num_unique_values\": 8,\n        \"samples\": [\n          1362.2720576850766,\n          448.0,\n          45211.0\n        ],\n        \"semantic_type\": \"\",\n        \"description\": \"\"\n      }\n    },\n    {\n      \"column\": \"V10\",\n      \"properties\": {\n        \"dtype\": \"number\",\n        \"std\": 15979.397159121005,\n        \"min\": 1.0,\n        \"max\": 45211.0,\n        \"num_unique_values\": 8,\n        \"samples\": [\n          15.80641879188693,\n          16.0,\n          45211.0\n        ],\n        \"semantic_type\": \"\",\n        \"description\": \"\"\n      }\n    },\n    {\n      \"column\": \"V12\",\n      \"properties\": {\n        \"dtype\": \"number\",\n        \"std\": 15767.149700866448,\n        \"min\": 0.0,\n        \"max\": 45211.0,\n        \"num_unique_values\": 8,\n        \"samples\": [\n          258.1630797814691,\n          180.0,\n          45211.0\n        ],\n        \"semantic_type\": \"\",\n        \"description\": \"\"\n      }\n    },\n    {\n      \"column\": \"V13\",\n      \"properties\": {\n        \"dtype\": \"number\",\n        \"std\": 15980.684949017386,\n        \"min\": 1.0,\n        \"max\": 45211.0,\n        \"num_unique_values\": 7,\n        \"samples\": [\n          45211.0,\n          2.763840658246887,\n          3.0\n        ],\n        \"semantic_type\": \"\",\n        \"description\": \"\"\n      }\n    },\n    {\n      \"column\": \"V14\",\n      \"properties\": {\n        \"dtype\": \"number\",\n        \"std\": 15936.427694880493,\n        \"min\": -1.0,\n        \"max\": 45211.0,\n        \"num_unique_values\": 5,\n        \"samples\": [\n          40.19782796222158,\n          871.0,\n          100.1287459906047\n        ],\n        \"semantic_type\": \"\",\n        \"description\": \"\"\n      }\n    },\n    {\n      \"column\": \"V15\",\n      \"properties\": {\n        \"dtype\": \"number\",\n        \"std\": 15970.756012949014,\n        \"min\": 0.0,\n        \"max\": 45211.0,\n        \"num_unique_values\": 5,\n        \"samples\": [\n          0.5803233726305546,\n          275.0,\n          2.3034410449314233\n        ],\n        \"semantic_type\": \"\",\n        \"description\": \"\"\n      }\n    }\n  ]\n}"
            }
          },
          "metadata": {},
          "execution_count": 36
        }
      ]
    },
    {
      "cell_type": "markdown",
      "source": [
        "\n",
        "**V1** (âge): moyenne d'âge de 40 ans et allant de 18 à 95 ans\n",
        "\n",
        "**V6** (montant moyen annuel sur le compte bancaire):  distribution très dispersée avec des valeurs négatives. Eventuellement, il serait intéressant de voir si les valeurs extrêmes sont nombreuses et s'il est pertinent de les garder dans le dataset.\n",
        "\n",
        "**V10** (le derniers jour du mois où il a été contacté): moyenne de 15 logique car 30-31 jours dans un mois. Rien à signaler\n",
        "\n",
        "**V12** (la durée du dernier contact en secondes): Ici aussi, nous retrouvons des valeurs extrêmes, il pourrait être pertinent de voir si elles sont nombreuses (comme pour la V6)\n",
        "\n",
        "**V13** (nombre de fois que le client a été contacté durant cette campagne) : moyenne de 3 mais étendue de 1 à 63. Selon les quartiles les valeurs au dessus de 3 sont peu présentes. On pourrait supposer que les valeurs > 20 sont très rares.\n",
        "\n",
        "**V14** (le nombre de jours passés depuis la dernière campagne marketing sur ce client): -1 signifie que le client n'a pas été contacté, d'où les valeurs négatives. Selon les quartiles, une grande partie des clients n'ont pas été contactées.\n",
        "\n",
        "**V15** (nombre de fois que le client a été contacté avant la campagne actuelle): Selon les quartiles, la majorité des clients n'ont jamais été contacté précédemment.\n",
        "\n"
      ],
      "metadata": {
        "id": "qOtU4R33Q38S"
      }
    },
    {
      "cell_type": "markdown",
      "source": [
        "\n",
        "\n",
        "---\n",
        "\n",
        "Voyons la réparition des features catégorielles"
      ],
      "metadata": {
        "id": "R2yaIUUZlF5N"
      }
    },
    {
      "cell_type": "code",
      "source": [
        "df['V2'].value_counts()"
      ],
      "metadata": {
        "id": "PqB-1QzIOWtD",
        "outputId": "ae9cf786-84b0-46f0-854c-63df1b558e50",
        "colab": {
          "base_uri": "https://localhost:8080/",
          "height": 547
        }
      },
      "execution_count": 37,
      "outputs": [
        {
          "output_type": "execute_result",
          "data": {
            "text/plain": [
              "V2\n",
              "b'blue-collar'      9732\n",
              "b'management'       9458\n",
              "b'technician'       7597\n",
              "b'admin.'           5171\n",
              "b'services'         4154\n",
              "b'retired'          2264\n",
              "b'self-employed'    1579\n",
              "b'entrepreneur'     1487\n",
              "b'unemployed'       1303\n",
              "b'housemaid'        1240\n",
              "b'student'           938\n",
              "b'unknown'           288\n",
              "Name: count, dtype: int64"
            ],
            "text/html": [
              "<div>\n",
              "<style scoped>\n",
              "    .dataframe tbody tr th:only-of-type {\n",
              "        vertical-align: middle;\n",
              "    }\n",
              "\n",
              "    .dataframe tbody tr th {\n",
              "        vertical-align: top;\n",
              "    }\n",
              "\n",
              "    .dataframe thead th {\n",
              "        text-align: right;\n",
              "    }\n",
              "</style>\n",
              "<table border=\"1\" class=\"dataframe\">\n",
              "  <thead>\n",
              "    <tr style=\"text-align: right;\">\n",
              "      <th></th>\n",
              "      <th>count</th>\n",
              "    </tr>\n",
              "    <tr>\n",
              "      <th>V2</th>\n",
              "      <th></th>\n",
              "    </tr>\n",
              "  </thead>\n",
              "  <tbody>\n",
              "    <tr>\n",
              "      <th>b'blue-collar'</th>\n",
              "      <td>9732</td>\n",
              "    </tr>\n",
              "    <tr>\n",
              "      <th>b'management'</th>\n",
              "      <td>9458</td>\n",
              "    </tr>\n",
              "    <tr>\n",
              "      <th>b'technician'</th>\n",
              "      <td>7597</td>\n",
              "    </tr>\n",
              "    <tr>\n",
              "      <th>b'admin.'</th>\n",
              "      <td>5171</td>\n",
              "    </tr>\n",
              "    <tr>\n",
              "      <th>b'services'</th>\n",
              "      <td>4154</td>\n",
              "    </tr>\n",
              "    <tr>\n",
              "      <th>b'retired'</th>\n",
              "      <td>2264</td>\n",
              "    </tr>\n",
              "    <tr>\n",
              "      <th>b'self-employed'</th>\n",
              "      <td>1579</td>\n",
              "    </tr>\n",
              "    <tr>\n",
              "      <th>b'entrepreneur'</th>\n",
              "      <td>1487</td>\n",
              "    </tr>\n",
              "    <tr>\n",
              "      <th>b'unemployed'</th>\n",
              "      <td>1303</td>\n",
              "    </tr>\n",
              "    <tr>\n",
              "      <th>b'housemaid'</th>\n",
              "      <td>1240</td>\n",
              "    </tr>\n",
              "    <tr>\n",
              "      <th>b'student'</th>\n",
              "      <td>938</td>\n",
              "    </tr>\n",
              "    <tr>\n",
              "      <th>b'unknown'</th>\n",
              "      <td>288</td>\n",
              "    </tr>\n",
              "  </tbody>\n",
              "</table>\n",
              "</div><br><label><b>dtype:</b> int64</label>"
            ]
          },
          "metadata": {},
          "execution_count": 37
        }
      ]
    },
    {
      "cell_type": "markdown",
      "source": [
        "On constate que les catégories professionnelles les plus représentées sont les `blue-collar` (9732), les `management` (9458), et les `technician` (7597).\n",
        "\n",
        "En revanche il y a également des catégories sous-représentée avec les étudiants les `housmaid` et la catégorie unknown.\n",
        "\n",
        "La catégorie `unknown` peut être considée comme du bruit vu qu'elle peut être considérer comme donnée manquante.\n",
        "\n",
        "Les autres catégorie sous repésentée pourraîent être regroupées pour éviter une dispersion forte."
      ],
      "metadata": {
        "id": "AFLrPSOJrGjo"
      }
    },
    {
      "cell_type": "code",
      "source": [
        "df['V3'].value_counts()"
      ],
      "metadata": {
        "id": "muvsSWgQOwIs",
        "outputId": "64c64593-f3d5-447f-f517-746113dd51d0",
        "colab": {
          "base_uri": "https://localhost:8080/",
          "height": 247
        }
      },
      "execution_count": 38,
      "outputs": [
        {
          "output_type": "execute_result",
          "data": {
            "text/plain": [
              "V3\n",
              "b'married'     27214\n",
              "b'single'      12790\n",
              "b'divorced'     5207\n",
              "Name: count, dtype: int64"
            ],
            "text/html": [
              "<div>\n",
              "<style scoped>\n",
              "    .dataframe tbody tr th:only-of-type {\n",
              "        vertical-align: middle;\n",
              "    }\n",
              "\n",
              "    .dataframe tbody tr th {\n",
              "        vertical-align: top;\n",
              "    }\n",
              "\n",
              "    .dataframe thead th {\n",
              "        text-align: right;\n",
              "    }\n",
              "</style>\n",
              "<table border=\"1\" class=\"dataframe\">\n",
              "  <thead>\n",
              "    <tr style=\"text-align: right;\">\n",
              "      <th></th>\n",
              "      <th>count</th>\n",
              "    </tr>\n",
              "    <tr>\n",
              "      <th>V3</th>\n",
              "      <th></th>\n",
              "    </tr>\n",
              "  </thead>\n",
              "  <tbody>\n",
              "    <tr>\n",
              "      <th>b'married'</th>\n",
              "      <td>27214</td>\n",
              "    </tr>\n",
              "    <tr>\n",
              "      <th>b'single'</th>\n",
              "      <td>12790</td>\n",
              "    </tr>\n",
              "    <tr>\n",
              "      <th>b'divorced'</th>\n",
              "      <td>5207</td>\n",
              "    </tr>\n",
              "  </tbody>\n",
              "</table>\n",
              "</div><br><label><b>dtype:</b> int64</label>"
            ]
          },
          "metadata": {},
          "execution_count": 38
        }
      ]
    },
    {
      "cell_type": "markdown",
      "source": [
        "Ici nous avons des catégories fortement inégales avec les categ `married` avec (27214),  suivie de `single` (12,790) et `divorced` (qui comprends veuf et divorcés) (5,207).\n",
        "\n",
        "Attention : le déséquilivre et fort, il y a une large proportiuon de mariés. Garder un oeil surtout avec les aglorithme sensibles aux déséquilibres comme le KNN.\n",
        "\n",
        "Garder en tête que nous pouvons faire du one hot encoding à chaque classe pour ne pas impacter la modélisation."
      ],
      "metadata": {
        "id": "zpMFO1nXsa6m"
      }
    },
    {
      "cell_type": "code",
      "source": [
        "df['V4'].value_counts()"
      ],
      "metadata": {
        "id": "sRcSuWtDO0Ho",
        "outputId": "9c0405db-b61f-4c7e-cdb8-b670c612f4b0",
        "colab": {
          "base_uri": "https://localhost:8080/",
          "height": 278
        }
      },
      "execution_count": 39,
      "outputs": [
        {
          "output_type": "execute_result",
          "data": {
            "text/plain": [
              "V4\n",
              "b'secondary'    23202\n",
              "b'tertiary'     13301\n",
              "b'primary'       6851\n",
              "b'unknown'       1857\n",
              "Name: count, dtype: int64"
            ],
            "text/html": [
              "<div>\n",
              "<style scoped>\n",
              "    .dataframe tbody tr th:only-of-type {\n",
              "        vertical-align: middle;\n",
              "    }\n",
              "\n",
              "    .dataframe tbody tr th {\n",
              "        vertical-align: top;\n",
              "    }\n",
              "\n",
              "    .dataframe thead th {\n",
              "        text-align: right;\n",
              "    }\n",
              "</style>\n",
              "<table border=\"1\" class=\"dataframe\">\n",
              "  <thead>\n",
              "    <tr style=\"text-align: right;\">\n",
              "      <th></th>\n",
              "      <th>count</th>\n",
              "    </tr>\n",
              "    <tr>\n",
              "      <th>V4</th>\n",
              "      <th></th>\n",
              "    </tr>\n",
              "  </thead>\n",
              "  <tbody>\n",
              "    <tr>\n",
              "      <th>b'secondary'</th>\n",
              "      <td>23202</td>\n",
              "    </tr>\n",
              "    <tr>\n",
              "      <th>b'tertiary'</th>\n",
              "      <td>13301</td>\n",
              "    </tr>\n",
              "    <tr>\n",
              "      <th>b'primary'</th>\n",
              "      <td>6851</td>\n",
              "    </tr>\n",
              "    <tr>\n",
              "      <th>b'unknown'</th>\n",
              "      <td>1857</td>\n",
              "    </tr>\n",
              "  </tbody>\n",
              "</table>\n",
              "</div><br><label><b>dtype:</b> int64</label>"
            ]
          },
          "metadata": {},
          "execution_count": 39
        }
      ]
    },
    {
      "cell_type": "markdown",
      "source": [
        "Majoritairement secondary (23,202), suivi de tertiary (13,301) et primary (6,851). La catégorie unknown (1,857) est minoritaire.\n",
        "\n",
        "Unknown pourrait être considérée comme du bruit donc si nécessaire nous pouvons l'imputer.\n",
        "\n",
        "comme ces valeurs portent sur le niveau d'éducation et qu'elles sont ordinale alors l'encodage devra respecter l'ordre."
      ],
      "metadata": {
        "id": "Sb4CMsfht5R9"
      }
    },
    {
      "cell_type": "code",
      "source": [
        "df['V5'].value_counts()"
      ],
      "metadata": {
        "id": "L9m8aMixO5ts",
        "outputId": "5191a208-8c8d-47cb-c0a0-5884f4092146",
        "colab": {
          "base_uri": "https://localhost:8080/",
          "height": 216
        }
      },
      "execution_count": 40,
      "outputs": [
        {
          "output_type": "execute_result",
          "data": {
            "text/plain": [
              "V5\n",
              "b'no'     44396\n",
              "b'yes'      815\n",
              "Name: count, dtype: int64"
            ],
            "text/html": [
              "<div>\n",
              "<style scoped>\n",
              "    .dataframe tbody tr th:only-of-type {\n",
              "        vertical-align: middle;\n",
              "    }\n",
              "\n",
              "    .dataframe tbody tr th {\n",
              "        vertical-align: top;\n",
              "    }\n",
              "\n",
              "    .dataframe thead th {\n",
              "        text-align: right;\n",
              "    }\n",
              "</style>\n",
              "<table border=\"1\" class=\"dataframe\">\n",
              "  <thead>\n",
              "    <tr style=\"text-align: right;\">\n",
              "      <th></th>\n",
              "      <th>count</th>\n",
              "    </tr>\n",
              "    <tr>\n",
              "      <th>V5</th>\n",
              "      <th></th>\n",
              "    </tr>\n",
              "  </thead>\n",
              "  <tbody>\n",
              "    <tr>\n",
              "      <th>b'no'</th>\n",
              "      <td>44396</td>\n",
              "    </tr>\n",
              "    <tr>\n",
              "      <th>b'yes'</th>\n",
              "      <td>815</td>\n",
              "    </tr>\n",
              "  </tbody>\n",
              "</table>\n",
              "</div><br><label><b>dtype:</b> int64</label>"
            ]
          },
          "metadata": {},
          "execution_count": 40
        }
      ]
    },
    {
      "cell_type": "markdown",
      "source": [
        "Il y a une différence très forte entre le `yes` et le `no`. Ce désiquilbre nécessite soit un oversampling de yes ou un undersampling de no.\n",
        "Sinon nous pouvons également entrainer le modèle avec des poids ajustés pour compenser le désiquilibre."
      ],
      "metadata": {
        "id": "q5cCEOv3uYuW"
      }
    },
    {
      "cell_type": "code",
      "source": [
        "df['V7'].value_counts()"
      ],
      "metadata": {
        "id": "GAuM8kqiO_S_",
        "outputId": "64344f3a-13e3-4a54-f7f4-ef8ca7be3beb",
        "colab": {
          "base_uri": "https://localhost:8080/",
          "height": 216
        }
      },
      "execution_count": 41,
      "outputs": [
        {
          "output_type": "execute_result",
          "data": {
            "text/plain": [
              "V7\n",
              "b'yes'    25130\n",
              "b'no'     20081\n",
              "Name: count, dtype: int64"
            ],
            "text/html": [
              "<div>\n",
              "<style scoped>\n",
              "    .dataframe tbody tr th:only-of-type {\n",
              "        vertical-align: middle;\n",
              "    }\n",
              "\n",
              "    .dataframe tbody tr th {\n",
              "        vertical-align: top;\n",
              "    }\n",
              "\n",
              "    .dataframe thead th {\n",
              "        text-align: right;\n",
              "    }\n",
              "</style>\n",
              "<table border=\"1\" class=\"dataframe\">\n",
              "  <thead>\n",
              "    <tr style=\"text-align: right;\">\n",
              "      <th></th>\n",
              "      <th>count</th>\n",
              "    </tr>\n",
              "    <tr>\n",
              "      <th>V7</th>\n",
              "      <th></th>\n",
              "    </tr>\n",
              "  </thead>\n",
              "  <tbody>\n",
              "    <tr>\n",
              "      <th>b'yes'</th>\n",
              "      <td>25130</td>\n",
              "    </tr>\n",
              "    <tr>\n",
              "      <th>b'no'</th>\n",
              "      <td>20081</td>\n",
              "    </tr>\n",
              "  </tbody>\n",
              "</table>\n",
              "</div><br><label><b>dtype:</b> int64</label>"
            ]
          },
          "metadata": {},
          "execution_count": 41
        }
      ]
    },
    {
      "cell_type": "markdown",
      "source": [
        "Ici le désiquilibre est modéré. Il ne devrait pas nécessiter de rééchantillonnage."
      ],
      "metadata": {
        "id": "9oMdCudJuyZu"
      }
    },
    {
      "cell_type": "code",
      "source": [
        "df['V8'].value_counts()"
      ],
      "metadata": {
        "id": "HUcsnvsHPBIr",
        "outputId": "06a926b9-8e58-4e5a-ae35-21169fe6adc2",
        "colab": {
          "base_uri": "https://localhost:8080/",
          "height": 216
        }
      },
      "execution_count": 42,
      "outputs": [
        {
          "output_type": "execute_result",
          "data": {
            "text/plain": [
              "V8\n",
              "b'no'     37967\n",
              "b'yes'     7244\n",
              "Name: count, dtype: int64"
            ],
            "text/html": [
              "<div>\n",
              "<style scoped>\n",
              "    .dataframe tbody tr th:only-of-type {\n",
              "        vertical-align: middle;\n",
              "    }\n",
              "\n",
              "    .dataframe tbody tr th {\n",
              "        vertical-align: top;\n",
              "    }\n",
              "\n",
              "    .dataframe thead th {\n",
              "        text-align: right;\n",
              "    }\n",
              "</style>\n",
              "<table border=\"1\" class=\"dataframe\">\n",
              "  <thead>\n",
              "    <tr style=\"text-align: right;\">\n",
              "      <th></th>\n",
              "      <th>count</th>\n",
              "    </tr>\n",
              "    <tr>\n",
              "      <th>V8</th>\n",
              "      <th></th>\n",
              "    </tr>\n",
              "  </thead>\n",
              "  <tbody>\n",
              "    <tr>\n",
              "      <th>b'no'</th>\n",
              "      <td>37967</td>\n",
              "    </tr>\n",
              "    <tr>\n",
              "      <th>b'yes'</th>\n",
              "      <td>7244</td>\n",
              "    </tr>\n",
              "  </tbody>\n",
              "</table>\n",
              "</div><br><label><b>dtype:</b> int64</label>"
            ]
          },
          "metadata": {},
          "execution_count": 42
        }
      ]
    },
    {
      "cell_type": "markdown",
      "source": [
        "Ici on retombe dans le même cas que la V5. Alors un comportement similaire doit être adopté."
      ],
      "metadata": {
        "id": "36WUkAMcu8qF"
      }
    },
    {
      "cell_type": "code",
      "source": [
        "df['V9'].value_counts()"
      ],
      "metadata": {
        "id": "Q9nE7ShxPC_t",
        "outputId": "649c3480-82d7-4579-8794-f416e1ce9b1e",
        "colab": {
          "base_uri": "https://localhost:8080/",
          "height": 247
        }
      },
      "execution_count": 43,
      "outputs": [
        {
          "output_type": "execute_result",
          "data": {
            "text/plain": [
              "V9\n",
              "b'cellular'     29285\n",
              "b'unknown'      13020\n",
              "b'telephone'     2906\n",
              "Name: count, dtype: int64"
            ],
            "text/html": [
              "<div>\n",
              "<style scoped>\n",
              "    .dataframe tbody tr th:only-of-type {\n",
              "        vertical-align: middle;\n",
              "    }\n",
              "\n",
              "    .dataframe tbody tr th {\n",
              "        vertical-align: top;\n",
              "    }\n",
              "\n",
              "    .dataframe thead th {\n",
              "        text-align: right;\n",
              "    }\n",
              "</style>\n",
              "<table border=\"1\" class=\"dataframe\">\n",
              "  <thead>\n",
              "    <tr style=\"text-align: right;\">\n",
              "      <th></th>\n",
              "      <th>count</th>\n",
              "    </tr>\n",
              "    <tr>\n",
              "      <th>V9</th>\n",
              "      <th></th>\n",
              "    </tr>\n",
              "  </thead>\n",
              "  <tbody>\n",
              "    <tr>\n",
              "      <th>b'cellular'</th>\n",
              "      <td>29285</td>\n",
              "    </tr>\n",
              "    <tr>\n",
              "      <th>b'unknown'</th>\n",
              "      <td>13020</td>\n",
              "    </tr>\n",
              "    <tr>\n",
              "      <th>b'telephone'</th>\n",
              "      <td>2906</td>\n",
              "    </tr>\n",
              "  </tbody>\n",
              "</table>\n",
              "</div><br><label><b>dtype:</b> int64</label>"
            ]
          },
          "metadata": {},
          "execution_count": 43
        }
      ]
    },
    {
      "cell_type": "markdown",
      "source": [
        "Forte dominance du cellular contre telephone et unknown. Unknown représente 1/3 des données environs. Il faut étudier son importance pour savoir s'il faut l'exclure ou la considérer."
      ],
      "metadata": {
        "id": "E2vPophkvKAM"
      }
    },
    {
      "cell_type": "code",
      "source": [
        "df['V11'].value_counts()"
      ],
      "metadata": {
        "id": "6yaEQxPePG8C",
        "outputId": "aec2670e-7257-4cd0-9fff-c8a288214d41",
        "colab": {
          "base_uri": "https://localhost:8080/",
          "height": 529
        }
      },
      "execution_count": 44,
      "outputs": [
        {
          "output_type": "execute_result",
          "data": {
            "text/plain": [
              "V11\n",
              "b'may'    13766\n",
              "b'jul'     6895\n",
              "b'aug'     6247\n",
              "b'jun'     5341\n",
              "b'nov'     3970\n",
              "b'apr'     2932\n",
              "b'feb'     2649\n",
              "b'jan'     1403\n",
              "b'oct'      738\n",
              "b'sep'      579\n",
              "b'mar'      477\n",
              "b'dec'      214\n",
              "Name: count, dtype: int64"
            ],
            "text/html": [
              "<div>\n",
              "<style scoped>\n",
              "    .dataframe tbody tr th:only-of-type {\n",
              "        vertical-align: middle;\n",
              "    }\n",
              "\n",
              "    .dataframe tbody tr th {\n",
              "        vertical-align: top;\n",
              "    }\n",
              "\n",
              "    .dataframe thead th {\n",
              "        text-align: right;\n",
              "    }\n",
              "</style>\n",
              "<table border=\"1\" class=\"dataframe\">\n",
              "  <thead>\n",
              "    <tr style=\"text-align: right;\">\n",
              "      <th></th>\n",
              "      <th>count</th>\n",
              "    </tr>\n",
              "    <tr>\n",
              "      <th>V11</th>\n",
              "      <th></th>\n",
              "    </tr>\n",
              "  </thead>\n",
              "  <tbody>\n",
              "    <tr>\n",
              "      <th>b'may'</th>\n",
              "      <td>13766</td>\n",
              "    </tr>\n",
              "    <tr>\n",
              "      <th>b'jul'</th>\n",
              "      <td>6895</td>\n",
              "    </tr>\n",
              "    <tr>\n",
              "      <th>b'aug'</th>\n",
              "      <td>6247</td>\n",
              "    </tr>\n",
              "    <tr>\n",
              "      <th>b'jun'</th>\n",
              "      <td>5341</td>\n",
              "    </tr>\n",
              "    <tr>\n",
              "      <th>b'nov'</th>\n",
              "      <td>3970</td>\n",
              "    </tr>\n",
              "    <tr>\n",
              "      <th>b'apr'</th>\n",
              "      <td>2932</td>\n",
              "    </tr>\n",
              "    <tr>\n",
              "      <th>b'feb'</th>\n",
              "      <td>2649</td>\n",
              "    </tr>\n",
              "    <tr>\n",
              "      <th>b'jan'</th>\n",
              "      <td>1403</td>\n",
              "    </tr>\n",
              "    <tr>\n",
              "      <th>b'oct'</th>\n",
              "      <td>738</td>\n",
              "    </tr>\n",
              "    <tr>\n",
              "      <th>b'sep'</th>\n",
              "      <td>579</td>\n",
              "    </tr>\n",
              "    <tr>\n",
              "      <th>b'mar'</th>\n",
              "      <td>477</td>\n",
              "    </tr>\n",
              "    <tr>\n",
              "      <th>b'dec'</th>\n",
              "      <td>214</td>\n",
              "    </tr>\n",
              "  </tbody>\n",
              "</table>\n",
              "</div><br><label><b>dtype:</b> int64</label>"
            ]
          },
          "metadata": {},
          "execution_count": 44
        }
      ]
    },
    {
      "cell_type": "markdown",
      "source": [
        "Le mois de mai est surreprésenté alors que d'autres mois sont largement sous représentés. Nous pouvons penser à les regrouper en une nouvelle catégories \"autres mois\".\n",
        "\n",
        "Il ne faut pas ignorer la nature cyclique des mois. peut-être qu'il faudrait les tansformer en coordonnées polaires pour observer leur periodicité?"
      ],
      "metadata": {
        "id": "p2oKipBDveD7"
      }
    },
    {
      "cell_type": "code",
      "source": [
        "df['V16'].value_counts()"
      ],
      "metadata": {
        "id": "64xBYKdRPdAi",
        "outputId": "63fbc5c3-8f42-450a-af2b-8450cec49889",
        "colab": {
          "base_uri": "https://localhost:8080/",
          "height": 278
        }
      },
      "execution_count": 45,
      "outputs": [
        {
          "output_type": "execute_result",
          "data": {
            "text/plain": [
              "V16\n",
              "b'unknown'    36959\n",
              "b'failure'     4901\n",
              "b'other'       1840\n",
              "b'success'     1511\n",
              "Name: count, dtype: int64"
            ],
            "text/html": [
              "<div>\n",
              "<style scoped>\n",
              "    .dataframe tbody tr th:only-of-type {\n",
              "        vertical-align: middle;\n",
              "    }\n",
              "\n",
              "    .dataframe tbody tr th {\n",
              "        vertical-align: top;\n",
              "    }\n",
              "\n",
              "    .dataframe thead th {\n",
              "        text-align: right;\n",
              "    }\n",
              "</style>\n",
              "<table border=\"1\" class=\"dataframe\">\n",
              "  <thead>\n",
              "    <tr style=\"text-align: right;\">\n",
              "      <th></th>\n",
              "      <th>count</th>\n",
              "    </tr>\n",
              "    <tr>\n",
              "      <th>V16</th>\n",
              "      <th></th>\n",
              "    </tr>\n",
              "  </thead>\n",
              "  <tbody>\n",
              "    <tr>\n",
              "      <th>b'unknown'</th>\n",
              "      <td>36959</td>\n",
              "    </tr>\n",
              "    <tr>\n",
              "      <th>b'failure'</th>\n",
              "      <td>4901</td>\n",
              "    </tr>\n",
              "    <tr>\n",
              "      <th>b'other'</th>\n",
              "      <td>1840</td>\n",
              "    </tr>\n",
              "    <tr>\n",
              "      <th>b'success'</th>\n",
              "      <td>1511</td>\n",
              "    </tr>\n",
              "  </tbody>\n",
              "</table>\n",
              "</div><br><label><b>dtype:</b> int64</label>"
            ]
          },
          "metadata": {},
          "execution_count": 45
        }
      ]
    },
    {
      "cell_type": "markdown",
      "source": [
        "La catégorie unknown est dominante devant failure other et success. Devrions nous la traiter séparément pour éviter le bruit dans les prédictions?\n",
        "\n",
        "Les autres catégories sont suffisante pour la représentation du modèle. Success reste néamoins minoritaire.."
      ],
      "metadata": {
        "id": "UPLOuGWJwDf6"
      }
    },
    {
      "cell_type": "markdown",
      "source": [
        "Toutes les features de catégorie semblent équilibrement répartie. Aucun traitement ne semble nécessaire."
      ],
      "metadata": {
        "id": "mRS6X1YlPm6p"
      }
    },
    {
      "cell_type": "markdown",
      "source": [
        "---\n",
        "**Répartition de la target**\n",
        "\n",
        "Maintenant, analysons la répartition de valeur de notre target\n",
        "\n",
        "\n"
      ],
      "metadata": {
        "id": "AUjRiHDlPy1c"
      }
    },
    {
      "cell_type": "code",
      "source": [
        "df['Class'].value_counts()"
      ],
      "metadata": {
        "id": "8fKoPzctP5Df",
        "outputId": "51c83bec-df36-4155-c07f-a2c2faf8e41a",
        "colab": {
          "base_uri": "https://localhost:8080/",
          "height": 216
        }
      },
      "execution_count": 46,
      "outputs": [
        {
          "output_type": "execute_result",
          "data": {
            "text/plain": [
              "Class\n",
              "b'1'    39922\n",
              "b'2'     5289\n",
              "Name: count, dtype: int64"
            ],
            "text/html": [
              "<div>\n",
              "<style scoped>\n",
              "    .dataframe tbody tr th:only-of-type {\n",
              "        vertical-align: middle;\n",
              "    }\n",
              "\n",
              "    .dataframe tbody tr th {\n",
              "        vertical-align: top;\n",
              "    }\n",
              "\n",
              "    .dataframe thead th {\n",
              "        text-align: right;\n",
              "    }\n",
              "</style>\n",
              "<table border=\"1\" class=\"dataframe\">\n",
              "  <thead>\n",
              "    <tr style=\"text-align: right;\">\n",
              "      <th></th>\n",
              "      <th>count</th>\n",
              "    </tr>\n",
              "    <tr>\n",
              "      <th>Class</th>\n",
              "      <th></th>\n",
              "    </tr>\n",
              "  </thead>\n",
              "  <tbody>\n",
              "    <tr>\n",
              "      <th>b'1'</th>\n",
              "      <td>39922</td>\n",
              "    </tr>\n",
              "    <tr>\n",
              "      <th>b'2'</th>\n",
              "      <td>5289</td>\n",
              "    </tr>\n",
              "  </tbody>\n",
              "</table>\n",
              "</div><br><label><b>dtype:</b> int64</label>"
            ]
          },
          "metadata": {},
          "execution_count": 46
        }
      ]
    },
    {
      "cell_type": "markdown",
      "source": [
        "On voit une répartition très largement en faveur de la valeur '1'.\n",
        "Pour palier à ce problème nous avons plusieurs types de solutions.\n",
        "\n",
        "*   Rerépartir les données par du sur-échantillonnage de la classe minoritaire (SMOTE) ou sous-échantillonnage de la classe majoritaire.\n",
        "*   Utilisez des modèles qui sont efficaces même avec un déséquilibre comme random forest par exemple\n",
        "*   Collectez des données supplémentaires (Impossible dans notre cas)\n",
        "*   Lors de l’entraînement, appliquez des poids inversés proportionnels à la fréquence des classes pour équilibrer leur impact sur la fonction de perte.\n",
        "\n",
        "\n",
        "\n",
        "\n"
      ],
      "metadata": {
        "id": "Se1gVKpfQM7N"
      }
    },
    {
      "cell_type": "markdown",
      "source": [
        "### Correlation"
      ],
      "metadata": {
        "id": "6lPNcbXDThkQ"
      }
    },
    {
      "cell_type": "markdown",
      "source": [
        "---\n",
        "**Analysons la matrice de corrélation de nos paires de features**"
      ],
      "metadata": {
        "id": "o3z1lQcYllN-"
      }
    },
    {
      "cell_type": "code",
      "source": [
        "# Identifier les colonnes catégoriques\n",
        "X = df.drop('Class', axis=1)  # Suppression de la colonne cible (target)\n",
        "categorical_columns = X.select_dtypes(include=['object', 'category']).columns\n",
        "\n",
        "# Appliquer One-Hot Encoding\n",
        "encoder = OneHotEncoder(drop='first', sparse_output=False)  # drop='first' pour éviter la multicolinéarité\n",
        "encoded_features = encoder.fit_transform(X[categorical_columns])\n",
        "\n",
        "# Convertir en DataFrame\n",
        "encoded_df = pd.DataFrame(encoded_features, columns=encoder.get_feature_names_out(categorical_columns))\n",
        "\n",
        "# Remplacer les colonnes catégoriques dans X par leurs versions encodées\n",
        "X_encoded = X.drop(columns=categorical_columns)  # Supprimer les colonnes catégoriques d'origine\n",
        "X_encoded = pd.concat([X_encoded.reset_index(drop=True), encoded_df.reset_index(drop=True)], axis=1)\n",
        "\n",
        "# Calculer la matrice de corrélation\n",
        "correlation_matrix = X_encoded.corr()\n",
        "\n",
        "# Visualiser la heatmap\n",
        "plt.figure(figsize=(10, 8))\n",
        "sns.heatmap(correlation_matrix, annot=False, cmap='coolwarm', vmin=-1, vmax=1)\n",
        "plt.title(\"Heatmap des Corrélations\")\n",
        "plt.show()\n",
        "\n",
        "# Trouver les paires fortement corrélées\n",
        "threshold = 0.6\n",
        "correlated_pairs = [\n",
        "    (col1, col2, correlation_matrix.loc[col1, col2])\n",
        "    for col1 in correlation_matrix.columns\n",
        "    for col2 in correlation_matrix.columns\n",
        "    if (correlation_matrix.loc[col1, col2] > threshold or correlation_matrix.loc[col1, col2] < -threshold)\n",
        "    and col1 != col2\n",
        "]\n",
        "for pair in correlated_pairs:\n",
        "    print(f\"{pair[0]} - {pair[1]} : Corrélation = {pair[2]:.2f}\")"
      ],
      "metadata": {
        "id": "kS4iq1H6lqQX",
        "outputId": "6c7e148d-3e18-496d-a809-d20f417c1a94",
        "colab": {
          "base_uri": "https://localhost:8080/",
          "height": 159
        }
      },
      "execution_count": 47,
      "outputs": [
        {
          "output_type": "display_data",
          "data": {
            "text/plain": [
              "<Figure size 1000x800 with 2 Axes>"
            ],
            "image/png": "[encoded data removed]"
          },
          "metadata": {}
        },
        {
          "output_type": "stream",
          "name": "stdout",
          "text": [
            "V14 - V16_b'unknown' : Corrélation = -0.87\n",
            "V3_b'married' - V3_b'single' : Corrélation = -0.77\n",
            "V3_b'single' - V3_b'married' : Corrélation = -0.77\n",
            "V4_b'secondary' - V4_b'tertiary' : Corrélation = -0.66\n",
            "V4_b'tertiary' - V4_b'secondary' : Corrélation = -0.66\n",
            "V16_b'unknown' - V14 : Corrélation = -0.87\n"
          ]
        }
      ]
    },
    {
      "cell_type": "markdown",
      "source": [
        "On peut voir une corrélation forte entre **V14** et **V16**\n",
        "\n",
        "**V14** étant le nombre de jours passés depuis la dernière campagne marketing sur ce client et V16 étant le résultat de cette précédente campagne (quand le résultat est inconnue)\n",
        "\n",
        "La corrélation est logique car par exemple si une précédente campagne est trop récente, nous ne connaissons pas encore le résultat de celle-ci. De plus, il ne nous paraît pas nécessaire de supprimer l'une des deux features car leur correllation n'est pas redondante et ne concerne que le cas où le résultat de la campagne est inconnue."
      ],
      "metadata": {
        "id": "AROYLH33ZsFN"
      }
    },
    {
      "cell_type": "markdown",
      "source": [
        "---\n"
      ],
      "metadata": {
        "id": "HVxCRKzIX3TX"
      }
    },
    {
      "cell_type": "markdown",
      "source": [
        "---\n",
        "## MODELS"
      ],
      "metadata": {
        "id": "O6hvtiROogpB"
      }
    },
    {
      "cell_type": "code",
      "source": [
        "def decode_labels(y):\n",
        "    \"\"\"Convertit les labels en int si ce sont des bytes\"\"\"\n",
        "    return np.array([int(val.decode('utf-8')) if isinstance(val, bytes) else int(val) for val in y])"
      ],
      "metadata": {
        "id": "14Zm0do3rWmY"
      },
      "execution_count": 22,
      "outputs": []
    },
    {
      "cell_type": "markdown",
      "source": [
        "### ORIGINAL DATASET"
      ],
      "metadata": {
        "id": "uEjlZb4M5yqo"
      }
    },
    {
      "cell_type": "markdown",
      "source": [
        "#### RANDOM FOREST - DATASET ORIGINAL"
      ],
      "metadata": {
        "id": "RV3rbFIApT70"
      }
    },
    {
      "cell_type": "code",
      "source": [
        "# Diviser les features et la target\n",
        "X = df.drop('Class', axis=1)\n",
        "y = df['Class']\n",
        "\n",
        "# Appliquer la transformation sur y pour s'assurer qu'il est en int\n",
        "y = decode_labels(y)\n",
        "\n",
        "# Identifier les colonnes catégoriques et numériques\n",
        "categorical_columns = X.select_dtypes(include=['object']).columns\n",
        "numerical_columns = X.select_dtypes(include=['float64', 'int64']).columns\n",
        "\n",
        "# Définir les transformations pour chaque type de données\n",
        "preprocessor = ColumnTransformer(\n",
        "    transformers=[\n",
        "        ('num', StandardScaler(), numerical_columns),       # Standardiser les colonnes numériques\n",
        "        ('cat', OneHotEncoder(drop='first'), categorical_columns)  # Encodage One-Hot pour les colonnes catégoriques\n",
        "    ]\n",
        ")\n",
        "\n",
        "# Créer une pipeline avec le préprocesseur et un modèle\n",
        "pipeline = Pipeline(steps=[\n",
        "    ('preprocessor', preprocessor),\n",
        "    ('classifier', RandomForestClassifier(random_state=42))\n",
        "])\n",
        "\n",
        "# Diviser le dataset en ensembles d'entraînement et de test\n",
        "X_train, X_test, y_train, y_test_do = train_test_split(X, y, test_size=0.2, random_state=42, stratify=y)\n",
        "\n",
        "from sklearn.model_selection import cross_val_score, StratifiedKFold\n",
        "\n",
        "cv = StratifiedKFold(n_splits=5, shuffle=True, random_state=42)\n",
        "\n",
        "scores = cross_val_score(pipeline, X, y, cv=5, scoring='f1_macro')\n",
        "print(\"Cross-validated F1-scores:\", scores)\n",
        "print(\"Mean F1-score:\", scores.mean())"
      ],
      "metadata": {
        "id": "fEncY4W4EKwj",
        "outputId": "29c04867-e31e-4e33-ebed-3abe7ce9f673",
        "colab": {
          "base_uri": "https://localhost:8080/"
        }
      },
      "execution_count": 59,
      "outputs": [
        {
          "output_type": "stream",
          "name": "stdout",
          "text": [
            "Cross-validated F1-scores: [0.47349016 0.41989054 0.45442657 0.45871849 0.26224732]\n",
            "Mean F1-score: 0.4137546149855698\n"
          ]
        }
      ]
    },
    {
      "cell_type": "markdown",
      "source": [
        "**Mean F1-score: 0.4137546149855698**"
      ],
      "metadata": {
        "id": "5Lt9cH8q-1ek"
      }
    },
    {
      "cell_type": "markdown",
      "source": [
        "On peut voir que les résultats avec le modèle original sont assez faibles. Nottamment sur la target 2, ce qui était attendu étant la sous-répartition de celle-ci"
      ],
      "metadata": {
        "id": "LsTS0i7IaFGg"
      }
    },
    {
      "cell_type": "code",
      "source": [
        "# Définir les hyperparamètres à tester\n",
        "param_grid = {\n",
        "    'classifier__n_estimators': [50, 100, 150],\n",
        "    'classifier__max_depth': [10, 15, None],\n",
        "    'classifier__min_samples_split': [2, 5, 10]\n",
        "}\n",
        "\n",
        "# Utiliser GridSearchCV\n",
        "grid_search = GridSearchCV(pipeline, param_grid, cv=5, scoring='f1_macro')\n",
        "grid_search.fit(X, y)\n",
        "\n",
        "# Meilleurs paramètres\n",
        "print(\"Best Parameters:\", grid_search.best_params_)\n",
        "\n",
        "# Évaluation avec le meilleur modèle\n",
        "best_model = grid_search.best_estimator_\n",
        "cv_scores = cross_val_score(best_model, X, y, cv=cv, scoring='f1_macro')\n",
        "print(\"Optimized Cross-Validation F1-scores:\", cv_scores)\n",
        "print(\"Mean F1-score after optimization:\", cv_scores.mean())"
      ],
      "metadata": {
        "colab": {
          "base_uri": "https://localhost:8080/"
        },
        "id": "L3tiYoUK7pLa",
        "outputId": "2c5dfbad-99a8-44ca-fd65-5e346b255abc"
      },
      "execution_count": 60,
      "outputs": [
        {
          "output_type": "stream",
          "name": "stdout",
          "text": [
            "Best Parameters: {'classifier__max_depth': 10, 'classifier__min_samples_split': 5, 'classifier__n_estimators': 150}\n",
            "Optimized Cross-Validation F1-scores: [0.6252057  0.62528175 0.62756653 0.60933356 0.62447242]\n",
            "Mean F1-score after optimization: 0.6223719907873093\n"
          ]
        }
      ]
    },
    {
      "cell_type": "markdown",
      "source": [
        "Remarque\n",
        "\n",
        "> Nous avons constaté que la partie finetuning de random forest était extrêment chronophage.\n",
        "> Nous donc réduit la grille des paramètres soucis de temps.\n",
        "\n"
      ],
      "metadata": {
        "id": "A052nSFZoHK9"
      }
    },
    {
      "cell_type": "code",
      "source": [
        "best_model_rfdo = grid_search.best_estimator_\n",
        "best_model_rfdo.fit(X_train, y_train)\n",
        "y_pred_rfdo = best_model_rfdo.predict(X_test)\n",
        "\n",
        "# Évaluation\n",
        "print(\"Confusion Matrix:\\n\", confusion_matrix(y_test_do, y_pred_rfdo))\n",
        "print(\"\\nClassification Report:\\n\", classification_report(y_test_do, y_pred_rfdo))"
      ],
      "metadata": {
        "id": "fohjCopz7z4T",
        "colab": {
          "base_uri": "https://localhost:8080/"
        },
        "outputId": "0dcef9d2-3d5a-4c55-fd38-04f82c309c36"
      },
      "execution_count": 61,
      "outputs": [
        {
          "output_type": "stream",
          "name": "stdout",
          "text": [
            "Confusion Matrix:\n",
            " [[7920   65]\n",
            " [ 863  195]]\n",
            "\n",
            "Classification Report:\n",
            "               precision    recall  f1-score   support\n",
            "\n",
            "           1       0.90      0.99      0.94      7985\n",
            "           2       0.75      0.18      0.30      1058\n",
            "\n",
            "    accuracy                           0.90      9043\n",
            "   macro avg       0.83      0.59      0.62      9043\n",
            "weighted avg       0.88      0.90      0.87      9043\n",
            "\n"
          ]
        }
      ]
    },
    {
      "cell_type": "markdown",
      "source": [
        "#### LightGBM - DATASET ORIGNAL"
      ],
      "metadata": {
        "id": "UdnsrK1_pvbS"
      }
    },
    {
      "cell_type": "code",
      "source": [
        "# Diviser les features et la target\n",
        "X = df.drop('Class', axis=1)  # Utiliser le dataset réséchantillonné\n",
        "y = df['Class']\n",
        "\n",
        "# Appliquer la transformation sur y pour s'assurer qu'il est en int\n",
        "y = decode_labels(y)\n",
        "\n",
        "# Identifier les colonnes catégoriques et numériques\n",
        "categorical_columns = X.select_dtypes(include=['object']).columns\n",
        "numerical_columns = X.select_dtypes(include=['float64', 'int64']).columns\n",
        "\n",
        "# Définir les transformations pour chaque type de données\n",
        "preprocessor = ColumnTransformer(\n",
        "    transformers=[\n",
        "        ('num', StandardScaler(), numerical_columns),       # Standardiser les colonnes numériques\n",
        "        ('cat', OneHotEncoder(drop='first'), categorical_columns)  # Encodage One-Hot pour les colonnes catégoriques\n",
        "    ]\n",
        ")\n",
        "\n",
        "# Créer une pipeline avec le préprocesseur et un modèle\n",
        "pipeline = Pipeline(steps=[\n",
        "    ('preprocessor', preprocessor),\n",
        "    ('classifier', LGBMClassifier(random_state=42))\n",
        "])\n",
        "\n",
        "X_train, X_test, y_train, y_test_do = train_test_split(X, y, test_size=0.2, random_state=42, stratify=y)\n",
        "\n",
        "\n",
        "\n",
        "# Utiliser le F1-macro comme métrique pour des classes éventuellement déséquilibrées\n",
        "f1_macro = make_scorer(f1_score, average='macro')\n",
        "\n",
        "cv = StratifiedKFold(n_splits=5, shuffle=True, random_state=42)\n",
        "\n",
        "# Calculer les scores de validation croisée\n",
        "cv_scores = cross_val_score(pipeline, X, y, cv=cv, scoring=f1_macro)\n",
        "\n",
        "# Afficher les résultats\n",
        "print(\"Cross-Validation F1-scores:\", cv_scores)\n",
        "print(\"Mean F1-score:\", cv_scores.mean())\n",
        "print(\"Standard Deviation of F1-scores:\", cv_scores.std())"
      ],
      "metadata": {
        "outputId": "d8e4b701-0363-4f45-f62c-6ace17cb9c2b",
        "colab": {
          "base_uri": "https://localhost:8080/"
        },
        "id": "Zku1FyJWq9Kt"
      },
      "execution_count": 62,
      "outputs": [
        {
          "output_type": "stream",
          "name": "stderr",
          "text": [
            "/usr/local/lib/python3.11/dist-packages/sklearn/utils/deprecation.py:151: FutureWarning: 'force_all_finite' was renamed to 'ensure_all_finite' in 1.6 and will be removed in 1.8.\n",
            "  warnings.warn(\n"
          ]
        },
        {
          "output_type": "stream",
          "name": "stdout",
          "text": [
            "[LightGBM] [Info] Number of positive: 4231, number of negative: 31937\n",
            "[LightGBM] [Info] Auto-choosing row-wise multi-threading, the overhead of testing was 0.005057 seconds.\n",
            "You can set `force_row_wise=true` to remove the overhead.\n",
            "And if memory is not enough, you can set `force_col_wise=true`.\n",
            "[LightGBM] [Info] Total Bins 1014\n",
            "[LightGBM] [Info] Number of data points in the train set: 36168, number of used features: 42\n",
            "[LightGBM] [Info] [binary:BoostFromScore]: pavg=0.116982 -> initscore=-2.021327\n",
            "[LightGBM] [Info] Start training from score -2.021327\n"
          ]
        },
        {
          "output_type": "stream",
          "name": "stderr",
          "text": [
            "/usr/local/lib/python3.11/dist-packages/sklearn/utils/deprecation.py:151: FutureWarning: 'force_all_finite' was renamed to 'ensure_all_finite' in 1.6 and will be removed in 1.8.\n",
            "  warnings.warn(\n",
            "/usr/local/lib/python3.11/dist-packages/sklearn/utils/deprecation.py:151: FutureWarning: 'force_all_finite' was renamed to 'ensure_all_finite' in 1.6 and will be removed in 1.8.\n",
            "  warnings.warn(\n"
          ]
        },
        {
          "output_type": "stream",
          "name": "stdout",
          "text": [
            "[LightGBM] [Info] Number of positive: 4232, number of negative: 31937\n",
            "[LightGBM] [Info] Auto-choosing row-wise multi-threading, the overhead of testing was 0.005064 seconds.\n",
            "You can set `force_row_wise=true` to remove the overhead.\n",
            "And if memory is not enough, you can set `force_col_wise=true`.\n",
            "[LightGBM] [Info] Total Bins 1016\n",
            "[LightGBM] [Info] Number of data points in the train set: 36169, number of used features: 42\n",
            "[LightGBM] [Info] [binary:BoostFromScore]: pavg=0.117006 -> initscore=-2.021091\n",
            "[LightGBM] [Info] Start training from score -2.021091\n"
          ]
        },
        {
          "output_type": "stream",
          "name": "stderr",
          "text": [
            "/usr/local/lib/python3.11/dist-packages/sklearn/utils/deprecation.py:151: FutureWarning: 'force_all_finite' was renamed to 'ensure_all_finite' in 1.6 and will be removed in 1.8.\n",
            "  warnings.warn(\n",
            "/usr/local/lib/python3.11/dist-packages/sklearn/utils/deprecation.py:151: FutureWarning: 'force_all_finite' was renamed to 'ensure_all_finite' in 1.6 and will be removed in 1.8.\n",
            "  warnings.warn(\n"
          ]
        },
        {
          "output_type": "stream",
          "name": "stdout",
          "text": [
            "[LightGBM] [Info] Number of positive: 4231, number of negative: 31938\n",
            "[LightGBM] [Info] Auto-choosing row-wise multi-threading, the overhead of testing was 0.005023 seconds.\n",
            "You can set `force_row_wise=true` to remove the overhead.\n",
            "And if memory is not enough, you can set `force_col_wise=true`.\n",
            "[LightGBM] [Info] Total Bins 1017\n",
            "[LightGBM] [Info] Number of data points in the train set: 36169, number of used features: 42\n",
            "[LightGBM] [Info] [binary:BoostFromScore]: pavg=0.116979 -> initscore=-2.021358\n",
            "[LightGBM] [Info] Start training from score -2.021358\n"
          ]
        },
        {
          "output_type": "stream",
          "name": "stderr",
          "text": [
            "/usr/local/lib/python3.11/dist-packages/sklearn/utils/deprecation.py:151: FutureWarning: 'force_all_finite' was renamed to 'ensure_all_finite' in 1.6 and will be removed in 1.8.\n",
            "  warnings.warn(\n",
            "/usr/local/lib/python3.11/dist-packages/sklearn/utils/deprecation.py:151: FutureWarning: 'force_all_finite' was renamed to 'ensure_all_finite' in 1.6 and will be removed in 1.8.\n",
            "  warnings.warn(\n"
          ]
        },
        {
          "output_type": "stream",
          "name": "stdout",
          "text": [
            "[LightGBM] [Info] Number of positive: 4231, number of negative: 31938\n",
            "[LightGBM] [Info] Auto-choosing row-wise multi-threading, the overhead of testing was 0.005127 seconds.\n",
            "You can set `force_row_wise=true` to remove the overhead.\n",
            "And if memory is not enough, you can set `force_col_wise=true`.\n",
            "[LightGBM] [Info] Total Bins 1015\n",
            "[LightGBM] [Info] Number of data points in the train set: 36169, number of used features: 42\n",
            "[LightGBM] [Info] [binary:BoostFromScore]: pavg=0.116979 -> initscore=-2.021358\n",
            "[LightGBM] [Info] Start training from score -2.021358\n"
          ]
        },
        {
          "output_type": "stream",
          "name": "stderr",
          "text": [
            "/usr/local/lib/python3.11/dist-packages/sklearn/utils/deprecation.py:151: FutureWarning: 'force_all_finite' was renamed to 'ensure_all_finite' in 1.6 and will be removed in 1.8.\n",
            "  warnings.warn(\n",
            "/usr/local/lib/python3.11/dist-packages/sklearn/utils/deprecation.py:151: FutureWarning: 'force_all_finite' was renamed to 'ensure_all_finite' in 1.6 and will be removed in 1.8.\n",
            "  warnings.warn(\n"
          ]
        },
        {
          "output_type": "stream",
          "name": "stdout",
          "text": [
            "[LightGBM] [Info] Number of positive: 4231, number of negative: 31938\n",
            "[LightGBM] [Info] Auto-choosing row-wise multi-threading, the overhead of testing was 0.005053 seconds.\n",
            "You can set `force_row_wise=true` to remove the overhead.\n",
            "And if memory is not enough, you can set `force_col_wise=true`.\n",
            "[LightGBM] [Info] Total Bins 1016\n",
            "[LightGBM] [Info] Number of data points in the train set: 36169, number of used features: 42\n",
            "[LightGBM] [Info] [binary:BoostFromScore]: pavg=0.116979 -> initscore=-2.021358\n",
            "[LightGBM] [Info] Start training from score -2.021358\n",
            "Cross-Validation F1-scores: [0.75730045 0.74938229 0.75402518 0.76126264 0.75146237]\n",
            "Mean F1-score: 0.7546865828117388\n",
            "Standard Deviation of F1-scores: 0.004220079880109963\n"
          ]
        },
        {
          "output_type": "stream",
          "name": "stderr",
          "text": [
            "/usr/local/lib/python3.11/dist-packages/sklearn/utils/deprecation.py:151: FutureWarning: 'force_all_finite' was renamed to 'ensure_all_finite' in 1.6 and will be removed in 1.8.\n",
            "  warnings.warn(\n"
          ]
        }
      ]
    },
    {
      "cell_type": "markdown",
      "source": [
        "**Mean F1-score: 0.7546865828117388**"
      ],
      "metadata": {
        "id": "sv6qxqR48qbL"
      }
    },
    {
      "cell_type": "markdown",
      "source": [
        "De même que pour le précédent modèle, utilisant le dataset original, les résultats de sont pas si probants"
      ],
      "metadata": {
        "id": "mMfbv3NZocFv"
      }
    },
    {
      "cell_type": "code",
      "source": [
        "# Diviser les features et la target\n",
        "X = df.drop('Class', axis=1)  # Utiliser le dataset réséchantillonné\n",
        "y = df['Class']\n",
        "\n",
        "# Appliquer la transformation sur y pour s'assurer qu'il est en int\n",
        "y = decode_labels(y)\n",
        "\n",
        "# Définir la grille d'hyperparamètres\n",
        "param_grid = {\n",
        "    'classifier__n_estimators': [100, 300],       # Réduit le nombre d'arbres testés\n",
        "    'classifier__learning_rate': [0.01, 0.1],     # Moins de taux d’apprentissage\n",
        "    'classifier__num_leaves': [31, 50],           # Moins de variations dans le nombre de feuilles\n",
        "    'classifier__max_depth': [-1, 10],            # Moins de profondeurs testées\n",
        "    'classifier__min_child_samples': [10, 20],    # Moins d’options pour les échantillons min\n",
        "    'classifier__subsample': [0.8]                # Fixer une seule valeur pour sous-échantillonnage\n",
        "}\n",
        "\n",
        "# Définir la validation croisée stratifiée\n",
        "cv = StratifiedKFold(n_splits=5, shuffle=True, random_state=42)\n",
        "\n",
        "# Définir GridSearchCV\n",
        "grid_search = GridSearchCV(\n",
        "    estimator=pipeline,\n",
        "    param_grid=param_grid,\n",
        "    scoring='f1_macro',  # Pour classes déséquilibrées\n",
        "    cv=cv,\n",
        "    verbose=1,  # Afficher les logs\n",
        "    n_jobs=-1   # Utiliser tous les cœurs disponibles\n",
        ")\n",
        "\n",
        "# Exécuter la recherche\n",
        "grid_search.fit(X, y)\n",
        "\n",
        "# Afficher les meilleurs paramètres\n",
        "print(\"Best Parameters:\", grid_search.best_params_)\n",
        "print(\"Best F1-score:\", grid_search.best_score_)"
      ],
      "metadata": {
        "outputId": "25c2a214-b6e3-4e17-8ce0-6a74ab04fbfa",
        "colab": {
          "base_uri": "https://localhost:8080/"
        },
        "id": "1UES6oVDq9Kv"
      },
      "execution_count": 63,
      "outputs": [
        {
          "output_type": "stream",
          "name": "stdout",
          "text": [
            "Fitting 5 folds for each of 32 candidates, totalling 160 fits\n"
          ]
        },
        {
          "output_type": "stream",
          "name": "stderr",
          "text": [
            "/usr/local/lib/python3.11/dist-packages/sklearn/utils/deprecation.py:151: FutureWarning: 'force_all_finite' was renamed to 'ensure_all_finite' in 1.6 and will be removed in 1.8.\n",
            "  warnings.warn(\n"
          ]
        },
        {
          "output_type": "stream",
          "name": "stdout",
          "text": [
            "[LightGBM] [Info] Number of positive: 5289, number of negative: 39922\n",
            "[LightGBM] [Info] Auto-choosing row-wise multi-threading, the overhead of testing was 0.006132 seconds.\n",
            "You can set `force_row_wise=true` to remove the overhead.\n",
            "And if memory is not enough, you can set `force_col_wise=true`.\n",
            "[LightGBM] [Info] Total Bins 1019\n",
            "[LightGBM] [Info] Number of data points in the train set: 45211, number of used features: 42\n",
            "[LightGBM] [Info] [binary:BoostFromScore]: pavg=0.116985 -> initscore=-2.021298\n",
            "[LightGBM] [Info] Start training from score -2.021298\n",
            "Best Parameters: {'classifier__learning_rate': 0.1, 'classifier__max_depth': -1, 'classifier__min_child_samples': 20, 'classifier__n_estimators': 100, 'classifier__num_leaves': 50, 'classifier__subsample': 0.8}\n",
            "Best F1-score: 0.7568063619163918\n"
          ]
        }
      ]
    },
    {
      "cell_type": "markdown",
      "source": [
        "**Best F1-score: 0.7568063619163918**"
      ],
      "metadata": {
        "id": "DobdM1Z0BJMX"
      }
    },
    {
      "cell_type": "code",
      "source": [
        "best_model_lgbmdo = grid_search.best_estimator_\n",
        "best_model_lgbmdo.fit(X_train, y_train)\n",
        "y_pred_lgbmdo = best_model_lgbmdo.predict(X_test)\n",
        "\n",
        "# Évaluation\n",
        "print(\"Confusion Matrix:\\n\", confusion_matrix(y_test_do, y_pred_lgbmdo))\n",
        "print(\"\\nClassification Report:\\n\", classification_report(y_test_do, y_pred_lgbmdo))"
      ],
      "metadata": {
        "id": "4n1qTlt7q9Kv",
        "colab": {
          "base_uri": "https://localhost:8080/"
        },
        "outputId": "db0a590b-980a-4449-9f1f-89c2a22ae03e"
      },
      "execution_count": 64,
      "outputs": [
        {
          "output_type": "stream",
          "name": "stderr",
          "text": [
            "/usr/local/lib/python3.11/dist-packages/sklearn/utils/deprecation.py:151: FutureWarning: 'force_all_finite' was renamed to 'ensure_all_finite' in 1.6 and will be removed in 1.8.\n",
            "  warnings.warn(\n"
          ]
        },
        {
          "output_type": "stream",
          "name": "stdout",
          "text": [
            "[LightGBM] [Info] Number of positive: 4231, number of negative: 31937\n",
            "[LightGBM] [Info] Auto-choosing row-wise multi-threading, the overhead of testing was 0.005515 seconds.\n",
            "You can set `force_row_wise=true` to remove the overhead.\n",
            "And if memory is not enough, you can set `force_col_wise=true`.\n",
            "[LightGBM] [Info] Total Bins 1016\n",
            "[LightGBM] [Info] Number of data points in the train set: 36168, number of used features: 42\n",
            "[LightGBM] [Info] [binary:BoostFromScore]: pavg=0.116982 -> initscore=-2.021327\n",
            "[LightGBM] [Info] Start training from score -2.021327\n",
            "Confusion Matrix:\n",
            " [[7694  291]\n",
            " [ 546  512]]\n",
            "\n",
            "Classification Report:\n",
            "               precision    recall  f1-score   support\n",
            "\n",
            "           1       0.93      0.96      0.95      7985\n",
            "           2       0.64      0.48      0.55      1058\n",
            "\n",
            "    accuracy                           0.91      9043\n",
            "   macro avg       0.79      0.72      0.75      9043\n",
            "weighted avg       0.90      0.91      0.90      9043\n",
            "\n"
          ]
        },
        {
          "output_type": "stream",
          "name": "stderr",
          "text": [
            "/usr/local/lib/python3.11/dist-packages/sklearn/utils/deprecation.py:151: FutureWarning: 'force_all_finite' was renamed to 'ensure_all_finite' in 1.6 and will be removed in 1.8.\n",
            "  warnings.warn(\n"
          ]
        }
      ]
    },
    {
      "cell_type": "markdown",
      "source": [
        "Classification Report:\n",
        "\n",
        "               precision    recall  f1-score   support\n",
        "\n",
        "           1       0.93      0.96      0.95      7985\n",
        "           2       0.64      0.48      0.55      1058\n",
        "\n",
        "    accuracy                           0.91      9043\n",
        "   macro avg       0.79      0.72      0.75      9043\n",
        "weighted avg       0.90      0.91      0.90      9043"
      ],
      "metadata": {
        "id": "rPPZu8FYAmCW"
      }
    },
    {
      "cell_type": "markdown",
      "source": [
        "#### LOGISTIC REGRESSION - DATASET ORIGINAL"
      ],
      "metadata": {
        "id": "sywSTg-rwJEl"
      }
    },
    {
      "cell_type": "code",
      "source": [
        "# Diviser les features et la target\n",
        "X = df.drop('Class', axis=1)  # Utiliser le dataset réséchantillonné\n",
        "y = df['Class']\n",
        "\n",
        "# Appliquer la transformation sur y pour s'assurer qu'il est en int\n",
        "y = decode_labels(y)\n",
        "\n",
        "# Identifier les colonnes catégoriques et numériques\n",
        "categorical_columns = X.select_dtypes(include=['object']).columns\n",
        "numerical_columns = X.select_dtypes(include=['float64', 'int64']).columns\n",
        "\n",
        "# Définir les transformations pour chaque type de données\n",
        "preprocessor = ColumnTransformer(\n",
        "    transformers=[\n",
        "        ('num', StandardScaler(), numerical_columns),       # Standardiser les colonnes numériques\n",
        "        ('cat', OneHotEncoder(drop='first'), categorical_columns)  # Encodage One-Hot pour les colonnes catégoriques\n",
        "    ]\n",
        ")\n",
        "\n",
        "# Créer une pipeline avec le préprocesseur et un modèle\n",
        "pipeline = Pipeline(steps=[\n",
        "    ('preprocessor', preprocessor),\n",
        "    ('classifier', LogisticRegression(random_state=42))\n",
        "])\n",
        "\n",
        "# Utiliser le F1-macro comme métrique pour des classes éventuellement déséquilibrées\n",
        "f1_macro = make_scorer(f1_score, average='macro')\n",
        "\n",
        "cv = StratifiedKFold(n_splits=5, shuffle=True, random_state=42)\n",
        "\n",
        "# Calculer les scores de validation croisée\n",
        "cv_scores = cross_val_score(pipeline, X, y, cv=cv, scoring=f1_macro)\n",
        "\n",
        "# Afficher les résultats\n",
        "print(\"Cross-Validation F1-scores:\", cv_scores)\n",
        "print(\"Mean F1-score:\", cv_scores.mean())\n",
        "print(\"Standard Deviation of F1-scores:\", cv_scores.std())"
      ],
      "metadata": {
        "id": "7DPoVX2awPcI",
        "colab": {
          "base_uri": "https://localhost:8080/"
        },
        "outputId": "d759f4ae-db16-44c2-b335-911cddf85db8"
      },
      "execution_count": 65,
      "outputs": [
        {
          "output_type": "stream",
          "name": "stdout",
          "text": [
            "Cross-Validation F1-scores: [0.70813083 0.69455544 0.69319226 0.69447373 0.70137917]\n",
            "Mean F1-score: 0.6983462870124599\n",
            "Standard Deviation of F1-scores: 0.0056721559784926896\n"
          ]
        }
      ]
    },
    {
      "cell_type": "markdown",
      "source": [
        "**Mean F1-score: 0.6983462870124599**"
      ],
      "metadata": {
        "id": "idxza9xwAs31"
      }
    },
    {
      "cell_type": "markdown",
      "source": [
        "**FINE TUNING**"
      ],
      "metadata": {
        "id": "1axiROv30TFc"
      }
    },
    {
      "cell_type": "code",
      "source": [
        "# Définition de la grille d'hyperparamètres\n",
        "param_grid = {\n",
        "    'classifier__C': [ 0.1, 10, 100],  # Contrôle la régularisation\n",
        "    'classifier__penalty': ['l1', 'l2'],  # Type de pénalité\n",
        "    'classifier__solver': ['liblinear', 'saga']  # Solvers compatibles avec L1 et L2\n",
        "}\n",
        "\n",
        "# Définir GridSearchCV avec la pipeline\n",
        "grid_search = GridSearchCV(\n",
        "    pipeline,\n",
        "    param_grid,\n",
        "    cv=5,  # Validation croisée à 5 plis\n",
        "    scoring='f1_macro',  # Optimisation sur le F1-score macro\n",
        "    verbose=1,  # Affiche la progression\n",
        "    n_jobs=-1  # Utilisation de tous les cœurs CPU pour accélérer\n",
        ")\n",
        "\n",
        "# Exécuter la recherche\n",
        "grid_search.fit(X, y)\n",
        "\n",
        "# Afficher les meilleurs hyperparamètres\n",
        "print(\"Best Parameters:\", grid_search.best_params_)\n",
        "print(\"Best F1-score:\", grid_search.best_score_)"
      ],
      "metadata": {
        "id": "-qHSF8Ki1ErJ",
        "colab": {
          "base_uri": "https://localhost:8080/"
        },
        "outputId": "066f4df8-eb3c-49c3-cc85-23960f703bae"
      },
      "execution_count": 66,
      "outputs": [
        {
          "output_type": "stream",
          "name": "stdout",
          "text": [
            "Fitting 5 folds for each of 12 candidates, totalling 60 fits\n",
            "Best Parameters: {'classifier__C': 0.1, 'classifier__penalty': 'l2', 'classifier__solver': 'saga'}\n",
            "Best F1-score: 0.5902821244094021\n"
          ]
        },
        {
          "output_type": "stream",
          "name": "stderr",
          "text": [
            "/usr/local/lib/python3.11/dist-packages/sklearn/linear_model/_sag.py:348: ConvergenceWarning: The max_iter was reached which means the coef_ did not converge\n",
            "  warnings.warn(\n"
          ]
        }
      ]
    },
    {
      "cell_type": "markdown",
      "source": [
        "**Best F1-score: 0.5902821244094021**\n"
      ],
      "metadata": {
        "id": "DvACdMAgBPbT"
      }
    },
    {
      "cell_type": "code",
      "source": [
        "best_model_lrdo = grid_search.best_estimator_\n",
        "best_model_lrdo.fit(X_train, y_train)\n",
        "y_pred_lrdo = best_model_lrdo.predict(X_test)\n",
        "\n",
        "# Évaluation\n",
        "print(\"Confusion Matrix:\\n\", confusion_matrix(y_test_do, y_pred_lrdo))\n",
        "print(\"\\nClassification Report:\\n\", classification_report(y_test_do, y_pred_lrdo))"
      ],
      "metadata": {
        "id": "1tVbwnIA0V43",
        "colab": {
          "base_uri": "https://localhost:8080/"
        },
        "outputId": "66b7ce40-50af-45a6-f33e-4d378b26bbd0"
      },
      "execution_count": 67,
      "outputs": [
        {
          "output_type": "stream",
          "name": "stdout",
          "text": [
            "Confusion Matrix:\n",
            " [[7788  197]\n",
            " [ 708  350]]\n",
            "\n",
            "Classification Report:\n",
            "               precision    recall  f1-score   support\n",
            "\n",
            "           1       0.92      0.98      0.95      7985\n",
            "           2       0.64      0.33      0.44      1058\n",
            "\n",
            "    accuracy                           0.90      9043\n",
            "   macro avg       0.78      0.65      0.69      9043\n",
            "weighted avg       0.88      0.90      0.89      9043\n",
            "\n"
          ]
        },
        {
          "output_type": "stream",
          "name": "stderr",
          "text": [
            "/usr/local/lib/python3.11/dist-packages/sklearn/linear_model/_sag.py:348: ConvergenceWarning: The max_iter was reached which means the coef_ did not converge\n",
            "  warnings.warn(\n"
          ]
        }
      ]
    },
    {
      "cell_type": "markdown",
      "source": [
        "Classification Report:\n",
        "\n",
        "               precision    recall  f1-score   support\n",
        "\n",
        "           1       0.93      0.96      0.95      7985\n",
        "           2       0.64      0.48      0.55      1058\n",
        "\n",
        "    accuracy                           0.91      9043\n",
        "    macro avg       0.79      0.72      0.75      9043\n",
        "    weighted avg       0.90      0.91      0.90      9043"
      ],
      "metadata": {
        "id": "iZaJESG4BhCp"
      }
    },
    {
      "cell_type": "markdown",
      "source": [
        "#### RESULTATS"
      ],
      "metadata": {
        "id": "dP5IT1cOL14w"
      }
    },
    {
      "cell_type": "markdown",
      "source": [
        "##### Comparaison des F1-Scores en Validation Croisée"
      ],
      "metadata": {
        "id": "3aMFg4S77VKW"
      }
    },
    {
      "cell_type": "code",
      "source": [
        "\n",
        "# Scores obtenus en validation croisée\n",
        "models = [\"Random Forest\", \"LightGBM\", \"Logistic Regression\"]\n",
        "f1_scores = [\n",
        "    [0.473, 0.419, 0.454, 0.458, 0.262],  # Random Forest\n",
        "    [0.757, 0.749, 0.754, 0.761, 0.751],  # LightGBM\n",
        "    [0.708, 0.694, 0.693, 0.694, 0.701]   # Logistic Regression\n",
        "]\n",
        "\n",
        "plt.figure(figsize=(10, 5))\n",
        "sns.boxplot(data=f1_scores, palette=\"coolwarm\")\n",
        "plt.xticks(range(3), models)\n",
        "plt.title(\"F1-Scores en Validation Croisée\")\n",
        "plt.ylabel(\"F1-Score\")\n",
        "plt.xlabel(\"Modèles\")\n",
        "plt.grid()\n",
        "plt.show()"
      ],
      "metadata": {
        "id": "SmseW8ry3sa3",
        "colab": {
          "base_uri": "https://localhost:8080/",
          "height": 54
        },
        "outputId": "816fc149-44c7-42d8-d242-0494fb85cff0"
      },
      "execution_count": 68,
      "outputs": [
        {
          "output_type": "display_data",
          "data": {
            "text/plain": [
              "<Figure size 1000x500 with 1 Axes>"
            ],
            "image/png": "[encoded data removed]"
          },
          "metadata": {}
        }
      ]
    },
    {
      "cell_type": "markdown",
      "source": [
        "##### Courbes ROC-AUC"
      ],
      "metadata": {
        "id": "_Vuj9qukn9p-"
      }
    },
    {
      "cell_type": "code",
      "source": [
        "# Calculer les courbes ROC\n",
        "fpr_rf, tpr_rf, _ = roc_curve(y_test_do, y_pred_rfdo,pos_label=2)\n",
        "fpr_lgbm, tpr_lgbm, _ = roc_curve(y_test_do, y_pred_lgbmdo,pos_label=2)\n",
        "fpr_lr, tpr_lr, _ = roc_curve(y_test_do, y_pred_lrdo,pos_label=2)\n",
        "\n",
        "# Calcul des AUC\n",
        "auc_rf = auc(fpr_rf, tpr_rf)\n",
        "auc_lgbm = auc(fpr_lgbm, tpr_lgbm)\n",
        "auc_lr = auc(fpr_lr, tpr_lr)\n",
        "\n",
        "# Tracer les courbes ROC\n",
        "plt.figure(figsize=(8, 6))\n",
        "plt.plot(fpr_rf, tpr_rf, label=f\"Random Forest (AUC = {auc_rf:.2f})\")\n",
        "plt.plot(fpr_lgbm, tpr_lgbm, label=f\"LightGBM (AUC = {auc_lgbm:.2f})\")\n",
        "plt.plot(fpr_lr, tpr_lr, label=f\"Logistic Regression (AUC = {auc_lr:.2f})\")\n",
        "\n",
        "# Diagonale aléatoire\n",
        "plt.plot([0, 1], [0, 1], 'k--')\n",
        "plt.xlabel(\"Taux de Faux Positifs (FPR)\")\n",
        "plt.ylabel(\"Taux de Vrais Positifs (TPR)\")\n",
        "plt.title(\"Courbes ROC des Meilleurs Modèles\")\n",
        "plt.legend()\n",
        "plt.grid()\n",
        "plt.show()"
      ],
      "metadata": {
        "id": "wttX4yK6oFox",
        "colab": {
          "base_uri": "https://localhost:8080/",
          "height": 564
        },
        "outputId": "e522cce1-6091-447c-8200-6eba280a5930"
      },
      "execution_count": 69,
      "outputs": [
        {
          "output_type": "display_data",
          "data": {
            "text/plain": [
              "<Figure size 800x600 with 1 Axes>"
            ],
            "image/png": "[encoded data removed]"
          },
          "metadata": {}
        }
      ]
    },
    {
      "cell_type": "markdown",
      "source": [
        "Les modèles n'ont pas une performance impressionnante en utilisant le Dataset original sans modification préalable.\n",
        "\n",
        "LightGBM est le meilleur des trois avec un AUC de **0.72**, mais il reste en dessous d'un bon classificateur (> 0.80).\n",
        "\n",
        "Le **Random Forest (0.59)** est proche d'un modèle aléatoire **(0.5)**, ce qui indique qu'il ne discrimine pas bien entre les classes."
      ],
      "metadata": {
        "id": "JbIL-o54ka2C"
      }
    },
    {
      "cell_type": "markdown",
      "source": [],
      "metadata": {
        "id": "rMfvxuFErDVf"
      }
    },
    {
      "cell_type": "markdown",
      "source": [
        "### DATASET UPSAMPLED WITH SMOTE"
      ],
      "metadata": {
        "id": "Mwi7ha0j5o7t"
      }
    },
    {
      "cell_type": "markdown",
      "source": [
        "---\n",
        "**Sur-échantillonnage de la classe '2' minoritaire**"
      ],
      "metadata": {
        "id": "7q9kxy5YXzEb"
      }
    },
    {
      "cell_type": "markdown",
      "source": [
        "Nous avons choisi d'utiliser SMOTE\n",
        "\n",
        "SMOTE permet d'éviter l'over-fitting car il ne crée pas de duplicats dans la dataset mais génère de nouveaux exemples synthétiques contrairement à l'oversampling classique. De plus, SMOTE ne génère pas de valeurs totalement aléatoires : il travaille en interpolant des points proches dans l’espace des features.\n",
        "\n"
      ],
      "metadata": {
        "id": "MpqJe9uSdL-3"
      }
    },
    {
      "cell_type": "code",
      "source": [
        "# Séparer les features et la target\n",
        "X = df.drop('Class', axis=1)\n",
        "y = df['Class']\n",
        "\n",
        "# Identifier les colonnes catégoriques sauf 'V4'\n",
        "categorical_columns = X.select_dtypes(include=['object']).columns.tolist()\n",
        "categorical_columns.remove('V4')  # Exclure 'V4' du One-Hot Encoding\n",
        "\n",
        "# Appliquer One-Hot Encoding aux autres colonnes catégoriques\n",
        "encoder = OneHotEncoder(drop='first', sparse_output=False)\n",
        "encoded_features = encoder.fit_transform(X[categorical_columns])\n",
        "\n",
        "# Convertir en DataFrame\n",
        "encoded_df = pd.DataFrame(encoded_features, columns=encoder.get_feature_names_out(categorical_columns))\n",
        "\n",
        "# Appliquer Ordinal Encoding sur V4 en conservant son nom\n",
        "ordinal_encoder = OrdinalEncoder()\n",
        "X['V4'] = ordinal_encoder.fit_transform(X[['V4']])\n",
        "\n",
        "# Supprimer les colonnes catégoriques originales (sauf V4)\n",
        "X = X.drop(columns=categorical_columns)\n",
        "\n",
        "# Fusionner toutes les transformations\n",
        "X = pd.concat([X.reset_index(drop=True), encoded_df.reset_index(drop=True)], axis=1)\n",
        "\n",
        "# Convertir les labels en format numérique si nécessaire\n",
        "y = y.astype('int')\n",
        "\n",
        "# Appliquer SMOTE\n",
        "smote = SMOTE(random_state=42)\n",
        "X_resampled, y_resampled = smote.fit_resample(X, y)\n",
        "\n",
        "# Reconstruire un DataFrame avec le même nom pour V4\n",
        "df_resampled = pd.concat([pd.DataFrame(X_resampled, columns=X.columns), pd.DataFrame(y_resampled, columns=['Class'])], axis=1)\n",
        "\n",
        "# Vérification\n",
        "print(df_resampled['Class'].value_counts())"
      ],
      "metadata": {
        "id": "YxaZYkUlULFc",
        "colab": {
          "base_uri": "https://localhost:8080/"
        },
        "outputId": "58ba0b3e-f81b-4045-e6b2-1b194d293094"
      },
      "execution_count": 70,
      "outputs": [
        {
          "output_type": "stream",
          "name": "stdout",
          "text": [
            "Class\n",
            "1    39922\n",
            "2    39922\n",
            "Name: count, dtype: int64\n"
          ]
        }
      ]
    },
    {
      "cell_type": "markdown",
      "source": [
        "#### RANDOM FOREST - DATASET UPSAMPLED"
      ],
      "metadata": {
        "id": "QFNPmnv1olfc"
      }
    },
    {
      "cell_type": "code",
      "source": [
        "# Diviser les features et la target\n",
        "X = df_resampled.drop('Class', axis=1)  # Utiliser le dataset réséchantillonné\n",
        "y = df_resampled['Class']\n",
        "\n",
        "# Identifier les colonnes numériques uniquement (les catégoriques sont déjà encodées)\n",
        "numerical_columns = X.select_dtypes(include=['float64', 'int64']).columns\n",
        "\n",
        "# Diviser les données en ensemble d'entraînement et de test\n",
        "X_train, X_test, y_train, y_test_du = train_test_split(X, y, test_size=0.2, random_state=42, stratify=y)\n",
        "\n",
        "# Définir la transformation pour les colonnes numériques\n",
        "preprocessor = ColumnTransformer(\n",
        "    transformers=[\n",
        "        ('num', StandardScaler(), numerical_columns)  # Standardiser les colonnes numériques uniquement\n",
        "    ],\n",
        "    remainder='passthrough'  # Laisser les autres colonnes (déjà encodées) inchangées\n",
        ")\n",
        "\n",
        "# Créer une pipeline avec le préprocesseur et RandomForest\n",
        "pipeline = Pipeline(steps=[\n",
        "    ('preprocessor', preprocessor),\n",
        "    ('classifier', RandomForestClassifier(random_state=42))\n",
        "])\n",
        "\n",
        "cv = StratifiedKFold(n_splits=5, shuffle=True, random_state=42)\n",
        "\n",
        "scores = cross_val_score(pipeline, X, y, cv=5, scoring='f1_macro')\n",
        "print(\"Cross-validated F1-scores:\", scores)\n",
        "print(\"Mean F1-score:\", scores.mean())"
      ],
      "metadata": {
        "id": "PQX2r6NpChS3",
        "colab": {
          "base_uri": "https://localhost:8080/"
        },
        "outputId": "1e55921a-7468-43ff-c97a-d32b83ddc4cc"
      },
      "execution_count": 71,
      "outputs": [
        {
          "output_type": "stream",
          "name": "stdout",
          "text": [
            "Cross-validated F1-scores: [0.63163467 0.88811115 0.88296743 0.7595588  0.53687955]\n",
            "Mean F1-score: 0.7398303199539544\n"
          ]
        }
      ]
    },
    {
      "cell_type": "markdown",
      "source": [
        "**Mean F1-score: 0.7444198672465159**"
      ],
      "metadata": {
        "id": "heetT8nC9cpw"
      }
    },
    {
      "cell_type": "markdown",
      "source": [
        "On vérifie les répartitions dans chaque pli"
      ],
      "metadata": {
        "id": "mayQk5Sejrb2"
      }
    },
    {
      "cell_type": "code",
      "source": [
        "for train_idx, test_idx in cv.split(X, y):\n",
        "    print(\"Train class distribution:\", y.iloc[train_idx].value_counts())\n",
        "    print(\"Test class distribution:\", y.iloc[test_idx].value_counts())"
      ],
      "metadata": {
        "id": "KHDQI7nyHt1v",
        "colab": {
          "base_uri": "https://localhost:8080/"
        },
        "outputId": "3e941580-cc50-4122-b6f9-fd581baa1010"
      },
      "execution_count": 72,
      "outputs": [
        {
          "output_type": "stream",
          "name": "stdout",
          "text": [
            "Train class distribution: Class\n",
            "2    31938\n",
            "1    31937\n",
            "Name: count, dtype: int64\n",
            "Test class distribution: Class\n",
            "1    7985\n",
            "2    7984\n",
            "Name: count, dtype: int64\n",
            "Train class distribution: Class\n",
            "2    31938\n",
            "1    31937\n",
            "Name: count, dtype: int64\n",
            "Test class distribution: Class\n",
            "1    7985\n",
            "2    7984\n",
            "Name: count, dtype: int64\n",
            "Train class distribution: Class\n",
            "1    31938\n",
            "2    31937\n",
            "Name: count, dtype: int64\n",
            "Test class distribution: Class\n",
            "2    7985\n",
            "1    7984\n",
            "Name: count, dtype: int64\n",
            "Train class distribution: Class\n",
            "1    31938\n",
            "2    31937\n",
            "Name: count, dtype: int64\n",
            "Test class distribution: Class\n",
            "2    7985\n",
            "1    7984\n",
            "Name: count, dtype: int64\n",
            "Train class distribution: Class\n",
            "1    31938\n",
            "2    31938\n",
            "Name: count, dtype: int64\n",
            "Test class distribution: Class\n",
            "1    7984\n",
            "2    7984\n",
            "Name: count, dtype: int64\n"
          ]
        }
      ]
    },
    {
      "cell_type": "markdown",
      "source": [
        "On peut voir que la répartition des classe est correcte dans l'ensembles des plis. Les mauvais scores avec random forest sur la cross validation ne sont donc pas liés à la réparition au sein des plis"
      ],
      "metadata": {
        "id": "nms9b0i8Z_ZH"
      }
    },
    {
      "cell_type": "code",
      "source": [
        "# Définir les hyperparamètres à tester\n",
        "param_grid = {\n",
        "    'classifier__n_estimators': [50, 100, 150],\n",
        "    'classifier__max_depth': [10, 15, None],\n",
        "    'classifier__min_samples_split': [2, 5, 10]\n",
        "}\n",
        "\n",
        "# Utiliser GridSearchCV\n",
        "grid_search = GridSearchCV(pipeline, param_grid, cv=5, scoring='f1_macro')\n",
        "grid_search.fit(X, y)\n",
        "\n",
        "# Meilleurs paramètres\n",
        "print(\"Best Parameters:\", grid_search.best_params_)\n",
        "\n",
        "best_model_rfdr = grid_search.best_estimator_\n",
        "best_model_rfdr.fit(X_train, y_train)\n",
        "y_pred_rfdr = best_model_rfdr.predict(X_test)\n",
        "\n",
        "# Évaluation\n",
        "print(\"Confusion Matrix:\\n\", confusion_matrix(y_test_du, y_pred_rfdr))\n",
        "print(\"\\nClassification Report:\\n\", classification_report(y_test_du, y_pred_rfdr))"
      ],
      "metadata": {
        "id": "nd0jE8WUKpet",
        "colab": {
          "base_uri": "https://localhost:8080/"
        },
        "outputId": "88e6f866-9c35-4315-ec52-47637dced8de"
      },
      "execution_count": 74,
      "outputs": [
        {
          "output_type": "stream",
          "name": "stdout",
          "text": [
            "Best Parameters: {'classifier__max_depth': 10, 'classifier__min_samples_split': 2, 'classifier__n_estimators': 100}\n",
            "Confusion Matrix:\n",
            " [[7510  475]\n",
            " [ 513 7471]]\n",
            "\n",
            "Classification Report:\n",
            "               precision    recall  f1-score   support\n",
            "\n",
            "           1       0.94      0.94      0.94      7985\n",
            "           2       0.94      0.94      0.94      7984\n",
            "\n",
            "    accuracy                           0.94     15969\n",
            "   macro avg       0.94      0.94      0.94     15969\n",
            "weighted avg       0.94      0.94      0.94     15969\n",
            "\n"
          ]
        }
      ]
    },
    {
      "cell_type": "markdown",
      "source": [
        "#### LightGBM - DATASET UPSAMPLED"
      ],
      "metadata": {
        "id": "SA9W3__ep4Ur"
      }
    },
    {
      "cell_type": "markdown",
      "source": [
        "\n",
        "---\n",
        "Au regard des résultats obtenus avec RandomForest, il peut être pertinent d'utiliser un autre modèle.\n",
        "Nous allons utiliser:\n",
        "\n",
        "**LightGBM (Light Gradient Boosting Machine)**\n"
      ],
      "metadata": {
        "id": "UYMJ4OcqntTn"
      }
    },
    {
      "cell_type": "code",
      "source": [
        "# Diviser les features et la target\n",
        "X = df_resampled.drop('Class', axis=1)  # Utiliser le dataset réséchantillonné\n",
        "y = df_resampled['Class']\n",
        "\n",
        "X_train, X_test, y_train, y_test_du = train_test_split(X, y, test_size=0.2, random_state=42, stratify=y)\n",
        "\n",
        "\n",
        "model = LGBMClassifier(random_state=42)\n",
        "# Définir une validation croisée stratifiée\n",
        "cv = StratifiedKFold(n_splits=5, shuffle=True, random_state=42)\n",
        "\n",
        "# Utiliser le F1-macro comme métrique pour des classes éventuellement déséquilibrées\n",
        "f1_macro = make_scorer(f1_score, average='macro')\n",
        "\n",
        "# Calculer les scores de validation croisée\n",
        "cv_scores = cross_val_score(model, X, y, cv=cv, scoring=f1_macro)\n",
        "\n",
        "# Afficher les résultats\n",
        "print(\"Cross-Validation F1-scores:\", cv_scores)\n",
        "print(\"Mean F1-score:\", cv_scores.mean())\n",
        "print(\"Standard Deviation of F1-scores:\", cv_scores.std())"
      ],
      "metadata": {
        "id": "vFLFj7ddnw11",
        "colab": {
          "base_uri": "https://localhost:8080/"
        },
        "outputId": "00740c68-fa22-42e7-d294-0ae9d4b3df79"
      },
      "execution_count": 75,
      "outputs": [
        {
          "output_type": "stream",
          "name": "stdout",
          "text": [
            "[LightGBM] [Info] Number of positive: 31938, number of negative: 31937\n",
            "[LightGBM] [Info] Auto-choosing col-wise multi-threading, the overhead of testing was 0.053643 seconds.\n",
            "You can set `force_col_wise=true` to remove the overhead.\n",
            "[LightGBM] [Info] Total Bins 10146\n",
            "[LightGBM] [Info] Number of data points in the train set: 63875, number of used features: 40\n",
            "[LightGBM] [Info] [binary:BoostFromScore]: pavg=0.500008 -> initscore=0.000031\n",
            "[LightGBM] [Info] Start training from score 0.000031\n",
            "[LightGBM] [Info] Number of positive: 31938, number of negative: 31937\n",
            "[LightGBM] [Info] Auto-choosing row-wise multi-threading, the overhead of testing was 0.024776 seconds.\n",
            "You can set `force_row_wise=true` to remove the overhead.\n",
            "And if memory is not enough, you can set `force_col_wise=true`.\n",
            "[LightGBM] [Info] Total Bins 10147\n",
            "[LightGBM] [Info] Number of data points in the train set: 63875, number of used features: 40\n",
            "[LightGBM] [Info] [binary:BoostFromScore]: pavg=0.500008 -> initscore=0.000031\n",
            "[LightGBM] [Info] Start training from score 0.000031\n",
            "[LightGBM] [Info] Number of positive: 31937, number of negative: 31938\n",
            "[LightGBM] [Info] Auto-choosing row-wise multi-threading, the overhead of testing was 0.024491 seconds.\n",
            "You can set `force_row_wise=true` to remove the overhead.\n",
            "And if memory is not enough, you can set `force_col_wise=true`.\n",
            "[LightGBM] [Info] Total Bins 10146\n",
            "[LightGBM] [Info] Number of data points in the train set: 63875, number of used features: 40\n",
            "[LightGBM] [Info] [binary:BoostFromScore]: pavg=0.499992 -> initscore=-0.000031\n",
            "[LightGBM] [Info] Start training from score -0.000031\n",
            "[LightGBM] [Info] Number of positive: 31937, number of negative: 31938\n",
            "[LightGBM] [Info] Auto-choosing row-wise multi-threading, the overhead of testing was 0.024809 seconds.\n",
            "You can set `force_row_wise=true` to remove the overhead.\n",
            "And if memory is not enough, you can set `force_col_wise=true`.\n",
            "[LightGBM] [Info] Total Bins 10147\n",
            "[LightGBM] [Info] Number of data points in the train set: 63875, number of used features: 40\n",
            "[LightGBM] [Info] [binary:BoostFromScore]: pavg=0.499992 -> initscore=-0.000031\n",
            "[LightGBM] [Info] Start training from score -0.000031\n",
            "[LightGBM] [Info] Number of positive: 31938, number of negative: 31938\n",
            "[LightGBM] [Info] Auto-choosing row-wise multi-threading, the overhead of testing was 0.025047 seconds.\n",
            "You can set `force_row_wise=true` to remove the overhead.\n",
            "And if memory is not enough, you can set `force_col_wise=true`.\n",
            "[LightGBM] [Info] Total Bins 10143\n",
            "[LightGBM] [Info] Number of data points in the train set: 63876, number of used features: 40\n",
            "[LightGBM] [Info] [binary:BoostFromScore]: pavg=0.500000 -> initscore=0.000000\n",
            "Cross-Validation F1-scores: [0.94945926 0.94826558 0.94676473 0.95127289 0.94732244]\n",
            "Mean F1-score: 0.9486169766548984\n",
            "Standard Deviation of F1-scores: 0.0016120448343891595\n"
          ]
        }
      ]
    },
    {
      "cell_type": "markdown",
      "source": [
        "**Mean F1-score: 0.9484172561308519**"
      ],
      "metadata": {
        "id": "vsVoVMJeovkJ"
      }
    },
    {
      "cell_type": "code",
      "source": [
        "# Diviser les features et la target\n",
        "X = df_resampled.drop('Class', axis=1)  # Utiliser le dataset réséchantillonné\n",
        "y = df_resampled['Class']\n",
        "\n",
        "# Définir le modèle\n",
        "model = LGBMClassifier(random_state=42)\n",
        "\n",
        "# Définir la grille d'hyperparamètres\n",
        "param_grid = {\n",
        "    'n_estimators': [100, 300],       # Réduit le nombre d'arbres testés\n",
        "    'learning_rate': [0.01, 0.1],     # Moins de taux d’apprentissage\n",
        "    'num_leaves': [31, 50],           # Moins de variations dans le nombre de feuilles\n",
        "    'max_depth': [-1, 10],            # Moins de profondeurs testées\n",
        "    'min_child_samples': [10, 20],    # Moins d’options pour les échantillons min\n",
        "    'subsample': [0.8]                # Fixer une seule valeur pour sous-échantillonnage\n",
        "}\n",
        "\n",
        "# Définir la validation croisée stratifiée\n",
        "cv = StratifiedKFold(n_splits=5, shuffle=True, random_state=42)\n",
        "\n",
        "# Définir GridSearchCV\n",
        "grid_search = GridSearchCV(\n",
        "    estimator=model,\n",
        "    param_grid=param_grid,\n",
        "    scoring='f1_macro',  # Pour classes déséquilibrées\n",
        "    cv=cv,\n",
        "    verbose=1,  # Afficher les logs\n",
        "    n_jobs=-1   # Utiliser tous les cœurs disponibles\n",
        ")\n",
        "\n",
        "# Exécuter la recherche\n",
        "grid_search.fit(X, y)\n",
        "\n",
        "# Afficher les meilleurs paramètres\n",
        "print(\"Best Parameters:\", grid_search.best_params_)\n",
        "print(\"Best F1-score:\", grid_search.best_score_)"
      ],
      "metadata": {
        "id": "AEY24r8hx22K",
        "colab": {
          "base_uri": "https://localhost:8080/"
        },
        "outputId": "7f2f1061-bc0c-42a5-b961-deb0d90aa839"
      },
      "execution_count": 76,
      "outputs": [
        {
          "output_type": "stream",
          "name": "stdout",
          "text": [
            "Fitting 5 folds for each of 32 candidates, totalling 160 fits\n",
            "[LightGBM] [Info] Number of positive: 39922, number of negative: 39922\n",
            "[LightGBM] [Info] Auto-choosing row-wise multi-threading, the overhead of testing was 0.045701 seconds.\n",
            "You can set `force_row_wise=true` to remove the overhead.\n",
            "And if memory is not enough, you can set `force_col_wise=true`.\n",
            "[LightGBM] [Info] Total Bins 10196\n",
            "[LightGBM] [Info] Number of data points in the train set: 79844, number of used features: 40\n",
            "[LightGBM] [Info] [binary:BoostFromScore]: pavg=0.500000 -> initscore=0.000000\n",
            "Best Parameters: {'learning_rate': 0.1, 'max_depth': -1, 'min_child_samples': 10, 'n_estimators': 300, 'num_leaves': 50, 'subsample': 0.8}\n",
            "Best F1-score: 0.9491817736732122\n"
          ]
        }
      ]
    },
    {
      "cell_type": "markdown",
      "source": [
        "Best Parameters: {'learning_rate': 0.1, 'max_depth': -1, 'min_child_samples': 20, 'n_estimators': 100, 'num_leaves': 50, 'subsample': 0.8}\n",
        "\n",
        "**Best F1-score: 0.9494955847579553**"
      ],
      "metadata": {
        "id": "T1tnX3hQFGmv"
      }
    },
    {
      "cell_type": "code",
      "source": [
        "X_train, X_test, y_train, y_test_du = train_test_split(X, y, test_size=0.2, random_state=42, stratify=y)\n",
        "\n",
        "best_model_lgbmdr = grid_search.best_estimator_\n",
        "best_model_lgbmdr.fit(X_train, y_train)\n",
        "y_pred_lgbmdr = best_model_lgbmdr.predict(X_test)\n",
        "\n",
        "# Évaluation\n",
        "print(\"Confusion Matrix:\\n\", confusion_matrix(y_test_du, y_pred_lgbmdr))\n",
        "print(\"\\nClassification Report:\\n\", classification_report(y_test_du, y_pred_lgbmdr))"
      ],
      "metadata": {
        "id": "PpViMdu6y8wD",
        "colab": {
          "base_uri": "https://localhost:8080/"
        },
        "outputId": "7ac354ec-0a40-46e8-f3fe-25a404e6f1e7"
      },
      "execution_count": 77,
      "outputs": [
        {
          "output_type": "stream",
          "name": "stdout",
          "text": [
            "[LightGBM] [Info] Number of positive: 31938, number of negative: 31937\n",
            "[LightGBM] [Info] Auto-choosing row-wise multi-threading, the overhead of testing was 0.026466 seconds.\n",
            "You can set `force_row_wise=true` to remove the overhead.\n",
            "And if memory is not enough, you can set `force_col_wise=true`.\n",
            "[LightGBM] [Info] Total Bins 10142\n",
            "[LightGBM] [Info] Number of data points in the train set: 63875, number of used features: 40\n",
            "[LightGBM] [Info] [binary:BoostFromScore]: pavg=0.500008 -> initscore=0.000031\n",
            "[LightGBM] [Info] Start training from score 0.000031\n",
            "Confusion Matrix:\n",
            " [[7672  313]\n",
            " [ 516 7468]]\n",
            "\n",
            "Classification Report:\n",
            "               precision    recall  f1-score   support\n",
            "\n",
            "           1       0.94      0.96      0.95      7985\n",
            "           2       0.96      0.94      0.95      7984\n",
            "\n",
            "    accuracy                           0.95     15969\n",
            "   macro avg       0.95      0.95      0.95     15969\n",
            "weighted avg       0.95      0.95      0.95     15969\n",
            "\n"
          ]
        }
      ]
    },
    {
      "cell_type": "markdown",
      "source": [
        "Classification Report:\n",
        "\n",
        "               precision    recall  f1-score   support\n",
        "\n",
        "           1       0.94      0.96      0.95      7985\n",
        "           2       0.96      0.94      0.95      7984\n",
        "\n",
        "    accuracy                           0.95     15969\n",
        "    macro avg       0.95      0.95     0.95     15969\n",
        "    weighted avg    0.95      0.95     0.95     15969"
      ],
      "metadata": {
        "id": "gBoIdFC2F1gB"
      }
    },
    {
      "cell_type": "markdown",
      "source": [
        "#### LOGISTIC REGRESSION - DATASET UPSAMPLED"
      ],
      "metadata": {
        "id": "7xnLFNsJ3Pdt"
      }
    },
    {
      "cell_type": "code",
      "source": [
        "# Diviser les features et la target\n",
        "X = df_resampled.drop('Class', axis=1)  # Utiliser le dataset réséchantillonné\n",
        "y = df_resampled['Class']\n",
        "\n",
        "# Identifier les colonnes numériques uniquement (les catégoriques sont déjà encodées)\n",
        "numerical_columns = X.select_dtypes(include=['float64', 'int64']).columns\n",
        "\n",
        "# Diviser les données en ensemble d'entraînement et de test\n",
        "X_train, X_test, y_train, y_test_du = train_test_split(X, y, test_size=0.2, random_state=42, stratify=y)\n",
        "\n",
        "# Définir la transformation pour les colonnes numériques\n",
        "preprocessor = ColumnTransformer(\n",
        "    transformers=[\n",
        "        ('num', StandardScaler(), numerical_columns)  # Standardiser les colonnes numériques uniquement\n",
        "    ],\n",
        "    remainder='passthrough'  # Laisser les autres colonnes (déjà encodées) inchangées\n",
        ")\n",
        "\n",
        "# Créer une pipeline avec le préprocesseur et la régression logistique\n",
        "pipeline = Pipeline(steps=[\n",
        "    ('preprocessor', preprocessor),\n",
        "    ('classifier', LogisticRegression(random_state=42, max_iter=500))\n",
        "])\n",
        "\n",
        "# Utiliser le F1-macro comme métrique pour des classes éventuellement déséquilibrées\n",
        "f1_macro = make_scorer(f1_score, average='macro')\n",
        "\n",
        "cv = StratifiedKFold(n_splits=5, shuffle=True, random_state=42)\n",
        "\n",
        "# Calculer les scores de validation croisée\n",
        "cv_scores = cross_val_score(pipeline, X, y, cv=cv, scoring=f1_macro)\n",
        "\n",
        "# Afficher les résultats\n",
        "print(\"Cross-Validation F1-scores:\", cv_scores)\n",
        "print(\"Mean F1-score:\", cv_scores.mean())\n",
        "print(\"Standard Deviation of F1-scores:\", cv_scores.std())\n"
      ],
      "metadata": {
        "id": "Xr6OBrtYrqMm",
        "colab": {
          "base_uri": "https://localhost:8080/"
        },
        "outputId": "37100e33-5324-4f91-d778-6eae2a128a03"
      },
      "execution_count": 78,
      "outputs": [
        {
          "output_type": "stream",
          "name": "stdout",
          "text": [
            "Cross-Validation F1-scores: [0.84794218 0.85020146 0.84237711 0.84970102 0.84423886]\n",
            "Mean F1-score: 0.8468921240667839\n",
            "Standard Deviation of F1-scores: 0.0030779667480444247\n"
          ]
        }
      ]
    },
    {
      "cell_type": "markdown",
      "source": [
        "**Mean F1-score: 0.8468921240667839**"
      ],
      "metadata": {
        "id": "odvO5Kd1sbMR"
      }
    },
    {
      "cell_type": "markdown",
      "source": [
        "##### FINE TUNING"
      ],
      "metadata": {
        "id": "2M30rZwrsmSn"
      }
    },
    {
      "cell_type": "code",
      "source": [
        "# Définition de la grille d'hyperparamètres\n",
        "param_grid = {\n",
        "    'classifier__C': [0.1, 1, 10, 0.01],  # Contrôle la régularisation\n",
        "    'classifier__penalty': ['l1', 'l2'],  # Type de pénalité\n",
        "    'classifier__solver': ['liblinear', 'saga']  # Solvers compatibles avec L1 et L2\n",
        "}\n",
        "\n",
        "# Définir GridSearchCV avec la pipeline\n",
        "grid_search = GridSearchCV(\n",
        "    pipeline,\n",
        "    param_grid,\n",
        "    cv=5,  # Validation croisée à 5 plis\n",
        "    scoring='f1_macro',  # Optimisation sur le F1-score macro\n",
        "    verbose=1,  # Affiche la progression\n",
        "    n_jobs=-1  # Utilisation de tous les cœurs CPU pour accélérer\n",
        ")\n",
        "\n",
        "# Exécuter la recherche\n",
        "grid_search.fit(X, y)\n",
        "\n",
        "# Afficher les meilleurs hyperparamètres\n",
        "print(\"Best Parameters:\", grid_search.best_params_)\n",
        "print(\"Best F1-score:\", grid_search.best_score_)\n"
      ],
      "metadata": {
        "id": "aMXrYlTusp5P",
        "colab": {
          "base_uri": "https://localhost:8080/"
        },
        "outputId": "6a2ae83e-dd25-4615-f718-66ebdce89d89"
      },
      "execution_count": 79,
      "outputs": [
        {
          "output_type": "stream",
          "name": "stdout",
          "text": [
            "Fitting 5 folds for each of 16 candidates, totalling 80 fits\n",
            "Best Parameters: {'classifier__C': 0.01, 'classifier__penalty': 'l2', 'classifier__solver': 'liblinear'}\n",
            "Best F1-score: 0.6459768243839804\n"
          ]
        }
      ]
    },
    {
      "cell_type": "markdown",
      "source": [
        "**Best F1-score: 0.6426600072376909**"
      ],
      "metadata": {
        "id": "3R4ZpdDUsqZH"
      }
    },
    {
      "cell_type": "code",
      "source": [
        "\n",
        "# Évaluation finale avec le meilleur modèle\n",
        "best_model_lrdr = grid_search.best_estimator_\n",
        "best_model_lrdr.fit(X_train, y_train)\n",
        "y_pred_lrdr = best_model_lrdr.predict(X_test)\n",
        "\n",
        "# Afficher les résultats\n",
        "target_names = ['Class 1', 'Class 2']\n",
        "print(\"Confusion Matrix:\\n\", confusion_matrix(y_test_du, y_pred_lrdr))\n",
        "print(\"\\nClassification Report:\\n\", classification_report(y_test_du, y_pred_lrdr, target_names=target_names))\n"
      ],
      "metadata": {
        "id": "cq1OKF70s2rs",
        "colab": {
          "base_uri": "https://localhost:8080/"
        },
        "outputId": "4e905290-1567-4624-b07e-58096d3a8cc2"
      },
      "execution_count": 80,
      "outputs": [
        {
          "output_type": "stream",
          "name": "stdout",
          "text": [
            "Confusion Matrix:\n",
            " [[6851 1134]\n",
            " [1321 6663]]\n",
            "\n",
            "Classification Report:\n",
            "               precision    recall  f1-score   support\n",
            "\n",
            "     Class 1       0.84      0.86      0.85      7985\n",
            "     Class 2       0.85      0.83      0.84      7984\n",
            "\n",
            "    accuracy                           0.85     15969\n",
            "   macro avg       0.85      0.85      0.85     15969\n",
            "weighted avg       0.85      0.85      0.85     15969\n",
            "\n"
          ]
        }
      ]
    },
    {
      "cell_type": "markdown",
      "source": [
        "Classification Report:\n",
        "               precision    recall  f1-score   support\n",
        "\n",
        "     Class 1       0.84      0.86      0.85      7985\n",
        "     Class 2       0.85      0.83      0.84      7984\n",
        "\n",
        "    accuracy                           0.85     15969\n",
        "   macro avg       0.85      0.85      0.85     15969\n",
        "weighted avg       0.85      0.85      0.85     15969\n",
        "\n"
      ],
      "metadata": {
        "id": "k1x_F-zls3Mq"
      }
    },
    {
      "cell_type": "markdown",
      "source": [
        "#### RESULTATS"
      ],
      "metadata": {
        "id": "5mVvAGZSMM2y"
      }
    },
    {
      "cell_type": "markdown",
      "source": [
        "##### Comparaison des F1-Scores en Validation Croisée"
      ],
      "metadata": {
        "id": "8zs_bige-4vC"
      }
    },
    {
      "cell_type": "code",
      "source": [
        "\n",
        "# Scores obtenus en validation croisée\n",
        "models = [\"Random Forest\", \"LightGBM\", \"Logistic Regression\"]\n",
        "f1_scores = [\n",
        "    [0.631, 0.888, 0.882, 0.759, 0.536],  # Random Forest\n",
        "    [0.949, 0.948, 0.946, 0.951, 0.947],  # LightGBM\n",
        "    [0.847, 0.850, 0.842, 0.849, 0.844]   # Logistic Regression\n",
        "]\n",
        "\n",
        "plt.figure(figsize=(10, 5))\n",
        "sns.boxplot(data=f1_scores, palette=\"coolwarm\")\n",
        "plt.xticks(range(3), models)\n",
        "plt.title(\"F1-Scores en Validation Croisée\")\n",
        "plt.ylabel(\"F1-Score\")\n",
        "plt.xlabel(\"Modèles\")\n",
        "plt.grid()\n",
        "plt.show()"
      ],
      "metadata": {
        "id": "eJ6DxWam-4vD",
        "colab": {
          "base_uri": "https://localhost:8080/",
          "height": 487
        },
        "outputId": "1441654c-abc4-4da7-c61b-d17540a11a99"
      },
      "execution_count": 81,
      "outputs": [
        {
          "output_type": "display_data",
          "data": {
            "text/plain": [
              "<Figure size 1000x500 with 1 Axes>"
            ],
            "image/png": "[encoded data removed]"
          },
          "metadata": {}
        }
      ]
    },
    {
      "cell_type": "markdown",
      "source": [
        "\n",
        "\n",
        "> Remarque: Nous avons entré les données de crossvalidation en dur à partir d'une execution et non dynamiquement pour des soucis de temps d'execution.\n",
        "\n"
      ],
      "metadata": {
        "id": "FHbA3nZgqGj-"
      }
    },
    {
      "cell_type": "markdown",
      "source": [
        "##### Courbes ROC-AUC"
      ],
      "metadata": {
        "id": "q3VpHliUAuY8"
      }
    },
    {
      "cell_type": "code",
      "source": [
        "# Calculer les courbes ROC\n",
        "fpr_rf, tpr_rf, _ = roc_curve(y_test_du, y_pred_rfdr,pos_label=2)\n",
        "fpr_lgbm, tpr_lgbm, _ = roc_curve(y_test_du, y_pred_lgbmdr,pos_label=2)\n",
        "fpr_lr, tpr_lr, _ = roc_curve(y_test_du, y_pred_lrdr,pos_label=2)\n",
        "\n",
        "# Calcul des AUC\n",
        "auc_rf = auc(fpr_rf, tpr_rf)\n",
        "auc_lgbm = auc(fpr_lgbm, tpr_lgbm)\n",
        "auc_lr = auc(fpr_lr, tpr_lr)\n",
        "\n",
        "# Tracer les courbes ROC\n",
        "plt.figure(figsize=(8, 6))\n",
        "plt.plot(fpr_rf, tpr_rf, label=f\"Random Forest (AUC = {auc_rf:.2f})\")\n",
        "plt.plot(fpr_lgbm, tpr_lgbm, label=f\"LightGBM (AUC = {auc_lgbm:.2f})\")\n",
        "plt.plot(fpr_lr, tpr_lr, label=f\"Logistic Regression (AUC = {auc_lr:.2f})\")\n",
        "\n",
        "# Diagonale aléatoire\n",
        "plt.plot([0, 1], [0, 1], 'k--')\n",
        "plt.xlabel(\"Taux de Faux Positifs (FPR)\")\n",
        "plt.ylabel(\"Taux de Vrais Positifs (TPR)\")\n",
        "plt.title(\"Courbes ROC des Meilleurs Modèles\")\n",
        "plt.legend()\n",
        "plt.grid()\n",
        "plt.show()"
      ],
      "metadata": {
        "id": "cdCeA8A_AuZE",
        "colab": {
          "base_uri": "https://localhost:8080/",
          "height": 564
        },
        "outputId": "6ddcdaa6-6ba9-4aa2-e3ce-05a741686122"
      },
      "execution_count": 82,
      "outputs": [
        {
          "output_type": "display_data",
          "data": {
            "text/plain": [
              "<Figure size 800x600 with 1 Axes>"
            ],
            "image/png": "[encoded data removed]"
          },
          "metadata": {}
        }
      ]
    },
    {
      "cell_type": "markdown",
      "source": [
        "**Interprétation des résultats**\n",
        "\n"
      ],
      "metadata": {
        "id": "0P0Ofhoqjyfx"
      }
    },
    {
      "cell_type": "markdown",
      "source": [
        "Ici les modèles ont été nettement améliorés, ceci grace au prétraitement des données (upsampling).\n",
        "- **LightGBM** est le meilleur **(0.95)**, ce qui en fait un excellent classificateur\n",
        "- **Random Forest** a vu sa performance hautement grandir (**0.94**)\n",
        "- **Logistic Regression** est le plus faible des 3 modèles avec un AUC égale à **0.85** mais reste un bon classificateur néanmoins (> 0.80)\n",
        "\n",
        "Cela prouve bien l'importance du prétraitement des données car nous observons bien la net amlioration des performances de chaques modèles."
      ],
      "metadata": {
        "id": "2bUzfU8olO5R"
      }
    },
    {
      "cell_type": "markdown",
      "source": [
        "### DATASET DOWNSAMPLED"
      ],
      "metadata": {
        "id": "4hQZ14Rx7Jwk"
      }
    },
    {
      "cell_type": "markdown",
      "source": [
        "Suite au retour enseignant, nous testons une autre méthode de resampling afin de comparer les conséquences effectives de notre choix de méthodes."
      ],
      "metadata": {
        "id": "6UEKOi6mpI68"
      }
    },
    {
      "cell_type": "code",
      "source": [
        "# Séparer les features et la target\n",
        "X = df.drop('Class', axis=1)\n",
        "y = df['Class']\n",
        "\n",
        "# Identifier les colonnes catégoriques sauf 'V4'\n",
        "categorical_columns = X.select_dtypes(include=['object']).columns.tolist()\n",
        "categorical_columns.remove('V4')  # Exclure 'V4' du One-Hot Encoding\n",
        "\n",
        "# Appliquer One-Hot Encoding aux autres colonnes catégoriques\n",
        "encoder = OneHotEncoder(drop='first', sparse_output=False)\n",
        "encoded_features = encoder.fit_transform(X[categorical_columns])\n",
        "\n",
        "# Convertir en DataFrame\n",
        "encoded_df = pd.DataFrame(encoded_features, columns=encoder.get_feature_names_out(categorical_columns))\n",
        "\n",
        "# Appliquer Ordinal Encoding sur V4 en conservant son nom\n",
        "ordinal_encoder = OrdinalEncoder()\n",
        "X['V4'] = ordinal_encoder.fit_transform(X[['V4']])\n",
        "\n",
        "# Supprimer les colonnes catégoriques originales (sauf V4)\n",
        "X = X.drop(columns=categorical_columns)\n",
        "\n",
        "# Fusionner toutes les transformations\n",
        "X = pd.concat([X.reset_index(drop=True), encoded_df.reset_index(drop=True)], axis=1)\n",
        "\n",
        "# Ajouter la colonne target pour faciliter le downsampling\n",
        "df_balanced = pd.concat([X, y.reset_index(drop=True)], axis=1)\n",
        "\n",
        "# Séparer les classes majoritaire et minoritaire\n",
        "majority_class = df_balanced[df_balanced['Class'] == df_balanced['Class'].value_counts().idxmax()]\n",
        "minority_class = df_balanced[df_balanced['Class'] == df_balanced['Class'].value_counts().idxmin()]\n",
        "\n",
        "# Downsampling : Réduire la classe majoritaire à la même taille que la classe minoritaire\n",
        "majority_downsampled = resample(majority_class,\n",
        "                                replace=False,  # Ne pas dupliquer les données\n",
        "                                n_samples=len(minority_class),  # Taille de la classe minoritaire\n",
        "                                random_state=42)\n",
        "\n",
        "# Concaténer les classes pour obtenir un dataset équilibré\n",
        "df_downsampled = pd.concat([majority_downsampled, minority_class])\n",
        "\n",
        "# Mélanger les données pour éviter un biais dans l'ordre des classes\n",
        "df_downsampled = df_downsampled.sample(frac=1, random_state=42).reset_index(drop=True)\n",
        "\n",
        "# Séparer X et y après le downsampling\n",
        "X_resampled = df_downsampled.drop(columns=['Class'])\n",
        "y_resampled = df_downsampled['Class']\n",
        "\n",
        "# Vérification\n",
        "print(\"Distribution après downsampling :\")\n",
        "print(y_resampled.value_counts())"
      ],
      "metadata": {
        "id": "wg6d9BH58TeX",
        "colab": {
          "base_uri": "https://localhost:8080/"
        },
        "outputId": "3358f674-5928-4969-9c5a-e369a04812c1"
      },
      "execution_count": 48,
      "outputs": [
        {
          "output_type": "stream",
          "name": "stdout",
          "text": [
            "Distribution après downsampling :\n",
            "Class\n",
            "b'2'    5289\n",
            "b'1'    5289\n",
            "Name: count, dtype: int64\n"
          ]
        }
      ]
    },
    {
      "cell_type": "markdown",
      "source": [
        "#### RANDOM FOREST - DATASET DOWNSAMPLED"
      ],
      "metadata": {
        "id": "ZHaSuBiRC9_F"
      }
    },
    {
      "cell_type": "code",
      "source": [
        "# Diviser les features et la target\n",
        "X = df_downsampled.drop('Class', axis=1)  # Utiliser le dataset réséchantillonné\n",
        "y = df_downsampled['Class']\n",
        "\n",
        "# Appliquer la transformation sur y pour s'assurer qu'il est en int\n",
        "y = decode_labels(y)\n",
        "\n",
        "# Identifier les colonnes numériques uniquement (les catégoriques sont déjà encodées)\n",
        "numerical_columns = X.select_dtypes(include=['float64', 'int64']).columns\n",
        "\n",
        "# Diviser les données en ensemble d'entraînement et de test\n",
        "X_train, X_test, y_train, y_test = train_test_split(X, y, test_size=0.2, random_state=42, stratify=y)\n",
        "\n",
        "# Définir la transformation pour les colonnes numériques\n",
        "preprocessor = ColumnTransformer(\n",
        "    transformers=[\n",
        "        ('num', StandardScaler(), numerical_columns)  # Standardiser les colonnes numériques uniquement\n",
        "    ],\n",
        "    remainder='passthrough'  # Laisser les autres colonnes (déjà encodées) inchangées\n",
        ")\n",
        "\n",
        "# Créer une pipeline avec le préprocesseur et RandomForest\n",
        "pipeline = Pipeline(steps=[\n",
        "    ('preprocessor', preprocessor),\n",
        "    ('classifier', RandomForestClassifier(random_state=42))\n",
        "])\n",
        "\n",
        "cv = StratifiedKFold(n_splits=5, shuffle=True, random_state=42)\n",
        "\n",
        "scores = cross_val_score(pipeline, X, y, cv=5, scoring='f1_macro')\n",
        "print(\"Cross-validated F1-scores:\", scores)\n",
        "print(\"Mean F1-score:\", scores.mean())"
      ],
      "metadata": {
        "id": "6terviMD-flB",
        "colab": {
          "base_uri": "https://localhost:8080/"
        },
        "outputId": "e04033f1-09db-42ba-eba3-ec1452c9bfe6"
      },
      "execution_count": 49,
      "outputs": [
        {
          "output_type": "stream",
          "name": "stdout",
          "text": [
            "Cross-validated F1-scores: [0.8495518  0.86146854 0.85010866 0.84934143 0.8698255 ]\n",
            "Mean F1-score: 0.8560591847489526\n"
          ]
        }
      ]
    },
    {
      "cell_type": "code",
      "source": [
        "# Définir les hyperparamètres à tester\n",
        "param_grid = {\n",
        "    'classifier__n_estimators': [50, 100, 150],\n",
        "    'classifier__max_depth': [10, 15, None],\n",
        "    'classifier__min_samples_split': [2, 5, 10]\n",
        "}\n",
        "\n",
        "# Utiliser GridSearchCV\n",
        "grid_search = GridSearchCV(pipeline, param_grid, cv=5, scoring='f1_macro')\n",
        "grid_search.fit(X, y)\n",
        "\n",
        "# Meilleurs paramètres\n",
        "print(\"Best Parameters:\", grid_search.best_params_)\n",
        "\n",
        "# Évaluation avec le meilleur modèle\n",
        "best_model_random_forest_downsampling = grid_search.best_estimator_\n",
        "best_model_random_forest_downsampling.fit(X_train, y_train)\n",
        "y_pred_rfds = best_model_random_forest_downsampling.predict(X_test)\n",
        "\n",
        "# Évaluation\n",
        "print(\"Confusion Matrix:\\n\", confusion_matrix(y_test, y_pred_rfds))\n",
        "print(\"\\nClassification Report:\\n\", classification_report(y_test, y_pred_rfds))"
      ],
      "metadata": {
        "id": "6wJKT5pS-flD",
        "colab": {
          "base_uri": "https://localhost:8080/"
        },
        "outputId": "4c1408e1-1d8b-4d74-80bc-ca3c1d08fcfa"
      },
      "execution_count": 50,
      "outputs": [
        {
          "output_type": "stream",
          "name": "stdout",
          "text": [
            "Best Parameters: {'classifier__max_depth': None, 'classifier__min_samples_split': 5, 'classifier__n_estimators': 150}\n",
            "Confusion Matrix:\n",
            " [[872 186]\n",
            " [107 951]]\n",
            "\n",
            "Classification Report:\n",
            "               precision    recall  f1-score   support\n",
            "\n",
            "           1       0.89      0.82      0.86      1058\n",
            "           2       0.84      0.90      0.87      1058\n",
            "\n",
            "    accuracy                           0.86      2116\n",
            "   macro avg       0.86      0.86      0.86      2116\n",
            "weighted avg       0.86      0.86      0.86      2116\n",
            "\n"
          ]
        }
      ]
    },
    {
      "cell_type": "markdown",
      "source": [
        "#### LightGBM - DATASET DOWNSAMPLED"
      ],
      "metadata": {
        "id": "Jd6tjbdhDOMl"
      }
    },
    {
      "cell_type": "markdown",
      "source": [
        "\n",
        "---\n",
        "Au regard des résultats obtenus avec RandomForest, il peut être pertinent d'utiliser un autre modèle.\n",
        "Nous allons utiliser:\n",
        "\n",
        "**LightGBM (Light Gradient Boosting Machine)**\n"
      ],
      "metadata": {
        "id": "PtelEaYcArLt"
      }
    },
    {
      "cell_type": "code",
      "source": [
        "# Diviser les features et la target\n",
        "X = df_downsampled.drop('Class', axis=1)  # Utiliser le dataset réséchantillonné\n",
        "y = df_downsampled['Class']\n",
        "\n",
        "# Appliquer la transformation sur y pour s'assurer qu'il est en int\n",
        "y = decode_labels(y)\n",
        "\n",
        "X_train, X_test, y_train, y_test_ds = train_test_split(X, y, test_size=0.2, random_state=42, stratify=y)\n",
        "\n",
        "\n",
        "model = LGBMClassifier(random_state=42)\n",
        "# Définir une validation croisée stratifiée\n",
        "cv = StratifiedKFold(n_splits=5, shuffle=True, random_state=42)\n",
        "\n",
        "# Utiliser le F1-macro comme métrique pour des classes éventuellement déséquilibrées\n",
        "f1_macro = make_scorer(f1_score, average='macro')\n",
        "\n",
        "# Calculer les scores de validation croisée\n",
        "cv_scores = cross_val_score(model, X, y, cv=cv, scoring=f1_macro)\n",
        "\n",
        "# Afficher les résultats\n",
        "print(\"Cross-Validation F1-scores:\", cv_scores)\n",
        "print(\"Mean F1-score:\", cv_scores.mean())\n",
        "print(\"Standard Deviation of F1-scores:\", cv_scores.std())"
      ],
      "metadata": {
        "id": "sHCGHI48ArLu",
        "colab": {
          "base_uri": "https://localhost:8080/"
        },
        "outputId": "2b9a89c0-c244-47fa-9924-edc0ac14be2d"
      },
      "execution_count": 51,
      "outputs": [
        {
          "output_type": "stream",
          "name": "stdout",
          "text": [
            "[LightGBM] [Info] Number of positive: 4231, number of negative: 4231\n",
            "[LightGBM] [Info] Auto-choosing row-wise multi-threading, the overhead of testing was 0.002093 seconds.\n",
            "You can set `force_row_wise=true` to remove the overhead.\n",
            "And if memory is not enough, you can set `force_col_wise=true`.\n",
            "[LightGBM] [Info] Total Bins 988\n",
            "[LightGBM] [Info] Number of data points in the train set: 8462, number of used features: 40\n",
            "[LightGBM] [Info] [binary:BoostFromScore]: pavg=0.500000 -> initscore=0.000000\n",
            "[LightGBM] [Info] Number of positive: 4231, number of negative: 4231\n",
            "[LightGBM] [Info] Auto-choosing row-wise multi-threading, the overhead of testing was 0.001968 seconds.\n",
            "You can set `force_row_wise=true` to remove the overhead.\n",
            "And if memory is not enough, you can set `force_col_wise=true`.\n",
            "[LightGBM] [Info] Total Bins 988\n",
            "[LightGBM] [Info] Number of data points in the train set: 8462, number of used features: 40\n",
            "[LightGBM] [Info] [binary:BoostFromScore]: pavg=0.500000 -> initscore=0.000000\n",
            "[LightGBM] [Info] Number of positive: 4231, number of negative: 4231\n",
            "[LightGBM] [Info] Auto-choosing row-wise multi-threading, the overhead of testing was 0.001983 seconds.\n",
            "You can set `force_row_wise=true` to remove the overhead.\n",
            "And if memory is not enough, you can set `force_col_wise=true`.\n",
            "[LightGBM] [Info] Total Bins 986\n",
            "[LightGBM] [Info] Number of data points in the train set: 8462, number of used features: 40\n",
            "[LightGBM] [Info] [binary:BoostFromScore]: pavg=0.500000 -> initscore=0.000000\n",
            "[LightGBM] [Info] Number of positive: 4231, number of negative: 4232\n",
            "[LightGBM] [Info] Auto-choosing row-wise multi-threading, the overhead of testing was 0.001996 seconds.\n",
            "You can set `force_row_wise=true` to remove the overhead.\n",
            "And if memory is not enough, you can set `force_col_wise=true`.\n",
            "[LightGBM] [Info] Total Bins 988\n",
            "[LightGBM] [Info] Number of data points in the train set: 8463, number of used features: 40\n",
            "[LightGBM] [Info] [binary:BoostFromScore]: pavg=0.499941 -> initscore=-0.000236\n",
            "[LightGBM] [Info] Start training from score -0.000236\n",
            "[LightGBM] [Info] Number of positive: 4232, number of negative: 4231\n",
            "[LightGBM] [Info] Auto-choosing row-wise multi-threading, the overhead of testing was 0.001719 seconds.\n",
            "You can set `force_row_wise=true` to remove the overhead.\n",
            "And if memory is not enough, you can set `force_col_wise=true`.\n",
            "[LightGBM] [Info] Total Bins 991\n",
            "[LightGBM] [Info] Number of data points in the train set: 8463, number of used features: 40\n",
            "[LightGBM] [Info] [binary:BoostFromScore]: pavg=0.500059 -> initscore=0.000236\n",
            "[LightGBM] [Info] Start training from score 0.000236\n",
            "Cross-Validation F1-scores: [0.86983754 0.86230338 0.85766117 0.87173502 0.86174564]\n",
            "Mean F1-score: 0.8646565528099559\n",
            "Standard Deviation of F1-scores: 0.0052894896517537565\n"
          ]
        }
      ]
    },
    {
      "cell_type": "code",
      "source": [
        "# Diviser les features et la target\n",
        "X = df_downsampled.drop('Class', axis=1)  # Utiliser le dataset réséchantillonné\n",
        "y = df_downsampled['Class']\n",
        "\n",
        "# Appliquer la transformation sur y pour s'assurer qu'il est en int\n",
        "y = decode_labels(y)\n",
        "\n",
        "# Définir le modèle\n",
        "model = LGBMClassifier(random_state=42)\n",
        "\n",
        "# Définir la grille d'hyperparamètres\n",
        "param_grid = {\n",
        "    'n_estimators': [100, 300],       # Réduit le nombre d'arbres testés\n",
        "    'learning_rate': [0.01, 0.1],     # Moins de taux d’apprentissage\n",
        "    'num_leaves': [31, 50],           # Moins de variations dans le nombre de feuilles\n",
        "    'max_depth': [-1, 10],            # Moins de profondeurs testées\n",
        "    'min_child_samples': [10, 20],    # Moins d’options pour les échantillons min\n",
        "    'subsample': [0.8]                # Fixer une seule valeur pour sous-échantillonnage\n",
        "}\n",
        "\n",
        "# Définir la validation croisée stratifiée\n",
        "cv = StratifiedKFold(n_splits=5, shuffle=True, random_state=42)\n",
        "\n",
        "# Définir GridSearchCV\n",
        "grid_search = GridSearchCV(\n",
        "    estimator=model,\n",
        "    param_grid=param_grid,\n",
        "    scoring='f1_macro',  # Pour classes déséquilibrées\n",
        "    cv=cv,\n",
        "    verbose=1,  # Afficher les logs\n",
        "    n_jobs=-1   # Utiliser tous les cœurs disponibles\n",
        ")\n",
        "\n",
        "# Exécuter la recherche\n",
        "grid_search.fit(X, y)\n",
        "\n",
        "# Afficher les meilleurs paramètres\n",
        "print(\"Best Parameters:\", grid_search.best_params_)\n",
        "print(\"Best F1-score:\", grid_search.best_score_)"
      ],
      "metadata": {
        "id": "-Gsij8VRArLv",
        "colab": {
          "base_uri": "https://localhost:8080/"
        },
        "outputId": "89f5e17a-36fc-493b-eedb-da0c8fcf5e5b"
      },
      "execution_count": 52,
      "outputs": [
        {
          "output_type": "stream",
          "name": "stdout",
          "text": [
            "Fitting 5 folds for each of 32 candidates, totalling 160 fits\n",
            "[LightGBM] [Info] Number of positive: 5289, number of negative: 5289\n",
            "[LightGBM] [Info] Auto-choosing row-wise multi-threading, the overhead of testing was 0.002340 seconds.\n",
            "You can set `force_row_wise=true` to remove the overhead.\n",
            "And if memory is not enough, you can set `force_col_wise=true`.\n",
            "[LightGBM] [Info] Total Bins 993\n",
            "[LightGBM] [Info] Number of data points in the train set: 10578, number of used features: 40\n",
            "[LightGBM] [Info] [binary:BoostFromScore]: pavg=0.500000 -> initscore=0.000000\n",
            "Best Parameters: {'learning_rate': 0.1, 'max_depth': 10, 'min_child_samples': 10, 'n_estimators': 100, 'num_leaves': 31, 'subsample': 0.8}\n",
            "Best F1-score: 0.8664762003438489\n"
          ]
        }
      ]
    },
    {
      "cell_type": "code",
      "source": [
        "X_train, X_test, y_train, y_test_ds = train_test_split(X, y, test_size=0.2, random_state=42, stratify=y)\n",
        "\n",
        "best_model_light_gbm_downsampling = grid_search.best_estimator_\n",
        "best_model_light_gbm_downsampling.fit(X_train, y_train)\n",
        "y_pred_lgbmds = best_model_light_gbm_downsampling.predict(X_test)\n",
        "\n",
        "# Évaluation\n",
        "print(\"Confusion Matrix:\\n\", confusion_matrix(y_test_ds, y_pred_lgbmds))\n",
        "print(\"\\nClassification Report:\\n\", classification_report(y_test_ds, y_pred_lgbmds))"
      ],
      "metadata": {
        "id": "xT2RTsMVBBkC",
        "colab": {
          "base_uri": "https://localhost:8080/"
        },
        "outputId": "ac2adef8-0b54-444f-f83b-1d2d743fb34c"
      },
      "execution_count": 53,
      "outputs": [
        {
          "output_type": "stream",
          "name": "stdout",
          "text": [
            "[LightGBM] [Info] Number of positive: 4231, number of negative: 4231\n",
            "[LightGBM] [Info] Auto-choosing row-wise multi-threading, the overhead of testing was 0.001588 seconds.\n",
            "You can set `force_row_wise=true` to remove the overhead.\n",
            "And if memory is not enough, you can set `force_col_wise=true`.\n",
            "[LightGBM] [Info] Total Bins 990\n",
            "[LightGBM] [Info] Number of data points in the train set: 8462, number of used features: 40\n",
            "[LightGBM] [Info] [binary:BoostFromScore]: pavg=0.500000 -> initscore=0.000000\n",
            "Confusion Matrix:\n",
            " [[873 185]\n",
            " [100 958]]\n",
            "\n",
            "Classification Report:\n",
            "               precision    recall  f1-score   support\n",
            "\n",
            "           1       0.90      0.83      0.86      1058\n",
            "           2       0.84      0.91      0.87      1058\n",
            "\n",
            "    accuracy                           0.87      2116\n",
            "   macro avg       0.87      0.87      0.87      2116\n",
            "weighted avg       0.87      0.87      0.87      2116\n",
            "\n"
          ]
        }
      ]
    },
    {
      "cell_type": "markdown",
      "source": [
        "#### LOGISTIC REGRESSION - DATASET DOWNSAMPLED"
      ],
      "metadata": {
        "id": "jqaxddn0DXYk"
      }
    },
    {
      "cell_type": "code",
      "source": [
        "# Diviser les features et la target\n",
        "X = df_downsampled.drop('Class', axis=1)  # Utiliser le dataset réséchantillonné\n",
        "y = df_downsampled['Class']\n",
        "\n",
        "# Appliquer la transformation sur y pour s'assurer qu'il est en int\n",
        "y = decode_labels(y)\n",
        "\n",
        "# Identifier les colonnes numériques uniquement (les catégoriques sont déjà encodées)\n",
        "numerical_columns = X.select_dtypes(include=['float64', 'int64']).columns\n",
        "\n",
        "# Diviser les données en ensemble d'entraînement et de test\n",
        "X_train, X_test, y_train, y_test_ds = train_test_split(X, y, test_size=0.2, random_state=42, stratify=y)\n",
        "\n",
        "# Définir la transformation pour les colonnes numériques\n",
        "preprocessor = ColumnTransformer(\n",
        "    transformers=[\n",
        "        ('num', StandardScaler(), numerical_columns)  # Standardiser les colonnes numériques uniquement\n",
        "    ],\n",
        "    remainder='passthrough'  # Laisser les autres colonnes (déjà encodées) inchangées\n",
        ")\n",
        "\n",
        "# Créer une pipeline avec le préprocesseur et la régression logistique\n",
        "pipeline = Pipeline(steps=[\n",
        "    ('preprocessor', preprocessor),\n",
        "    ('classifier', LogisticRegression(random_state=42, max_iter=500))\n",
        "])\n",
        "\n",
        "# Utiliser le F1-macro comme métrique pour des classes éventuellement déséquilibrées\n",
        "f1_macro = make_scorer(f1_score, average='macro')\n",
        "\n",
        "cv = StratifiedKFold(n_splits=5, shuffle=True, random_state=42)\n",
        "\n",
        "# Calculer les scores de validation croisée\n",
        "cv_scores = cross_val_score(pipeline, X, y, cv=cv, scoring=f1_macro)\n",
        "\n",
        "# Afficher les résultats\n",
        "print(\"Cross-Validation F1-scores:\", cv_scores)\n",
        "print(\"Mean F1-score:\", cv_scores.mean())\n",
        "print(\"Standard Deviation of F1-scores:\", cv_scores.std())\n"
      ],
      "metadata": {
        "id": "ieFWJZJ2DnaW",
        "colab": {
          "base_uri": "https://localhost:8080/"
        },
        "outputId": "9d2216f9-d8dc-482b-a6a1-a01025f13ac0"
      },
      "execution_count": 54,
      "outputs": [
        {
          "output_type": "stream",
          "name": "stdout",
          "text": [
            "Cross-Validation F1-scores: [0.82372365 0.83742679 0.80603787 0.84059295 0.82694846]\n",
            "Mean F1-score: 0.8269459444860201\n",
            "Standard Deviation of F1-scores: 0.01219523932038429\n"
          ]
        }
      ]
    },
    {
      "cell_type": "markdown",
      "source": [
        "##### FINE TUNING"
      ],
      "metadata": {
        "id": "Ul4AB6q4DnaX"
      }
    },
    {
      "cell_type": "code",
      "source": [
        "# Définition de la grille d'hyperparamètres\n",
        "param_grid = {\n",
        "    'classifier__C': [0.1, 1, 10, 0.01],  # Contrôle la régularisation\n",
        "    'classifier__penalty': ['l1', 'l2'],  # Type de pénalité\n",
        "    'classifier__solver': ['liblinear', 'saga']  # Solvers compatibles avec L1 et L2\n",
        "}\n",
        "\n",
        "# Définir GridSearchCV avec la pipeline\n",
        "grid_search = GridSearchCV(\n",
        "    pipeline,\n",
        "    param_grid,\n",
        "    cv=5,  # Validation croisée à 5 plis\n",
        "    scoring='f1_macro',  # Optimisation sur le F1-score macro\n",
        "    verbose=1,  # Affiche la progression\n",
        "    n_jobs=-1  # Utilisation de tous les cœurs CPU pour accélérer\n",
        ")\n",
        "\n",
        "# Exécuter la recherche\n",
        "grid_search.fit(X, y)\n",
        "\n",
        "# Afficher les meilleurs hyperparamètres\n",
        "print(\"Best Parameters:\", grid_search.best_params_)\n",
        "print(\"Best F1-score:\", grid_search.best_score_)\n"
      ],
      "metadata": {
        "id": "zKBTvW3EDnaX",
        "colab": {
          "base_uri": "https://localhost:8080/"
        },
        "outputId": "b1a0cf5c-c4aa-44e0-ca31-68a1e1232e40"
      },
      "execution_count": 55,
      "outputs": [
        {
          "output_type": "stream",
          "name": "stdout",
          "text": [
            "Fitting 5 folds for each of 16 candidates, totalling 80 fits\n",
            "Best Parameters: {'classifier__C': 0.1, 'classifier__penalty': 'l1', 'classifier__solver': 'liblinear'}\n",
            "Best F1-score: 0.8285578218973357\n"
          ]
        }
      ]
    },
    {
      "cell_type": "code",
      "source": [
        "\n",
        "# Évaluation finale avec le meilleur modèle\n",
        "best_model_logistic_regression_downsampling = grid_search.best_estimator_\n",
        "best_model_logistic_regression_downsampling.fit(X_train, y_train)\n",
        "y_pred_lrds = best_model_logistic_regression_downsampling.predict(X_test)\n",
        "\n",
        "# Afficher les résultats\n",
        "target_names = ['Class 1', 'Class 2']\n",
        "print(\"Confusion Matrix:\\n\", confusion_matrix(y_test_ds, y_pred_lrds))\n",
        "print(\"\\nClassification Report:\\n\", classification_report(y_test_ds, y_pred_lrds, target_names=target_names))\n"
      ],
      "metadata": {
        "id": "foK83o1oDnaX",
        "colab": {
          "base_uri": "https://localhost:8080/"
        },
        "outputId": "4d065735-745b-4a3f-e54c-2a95e1bdbcf4"
      },
      "execution_count": 56,
      "outputs": [
        {
          "output_type": "stream",
          "name": "stdout",
          "text": [
            "Confusion Matrix:\n",
            " [[900 158]\n",
            " [197 861]]\n",
            "\n",
            "Classification Report:\n",
            "               precision    recall  f1-score   support\n",
            "\n",
            "     Class 1       0.82      0.85      0.84      1058\n",
            "     Class 2       0.84      0.81      0.83      1058\n",
            "\n",
            "    accuracy                           0.83      2116\n",
            "   macro avg       0.83      0.83      0.83      2116\n",
            "weighted avg       0.83      0.83      0.83      2116\n",
            "\n"
          ]
        }
      ]
    },
    {
      "cell_type": "markdown",
      "source": [
        "#### RESULTATS"
      ],
      "metadata": {
        "id": "QMefvJszTSKY"
      }
    },
    {
      "cell_type": "markdown",
      "source": [
        "##### Comparaison des F1-Scores en Validation Croisée"
      ],
      "metadata": {
        "id": "9cV6xEJJTSKa"
      }
    },
    {
      "cell_type": "code",
      "source": [
        "\n",
        "# Scores obtenus en validation croisée\n",
        "models = [\"Random Forest\", \"LightGBM\", \"Logistic Regression\"]\n",
        "f1_scores = [\n",
        "    [0.849, 0.861, 0.850, 0.849, 0.869],  # Random Forest\n",
        "    [0.869, 0.862, 0.857, 0.871, 0.861],  # LightGBM\n",
        "    [0.823, 0.837, 0.806, 0.840, 0.826]   # Logistic Regression\n",
        "]\n",
        "\n",
        "plt.figure(figsize=(10, 5))\n",
        "sns.boxplot(data=f1_scores, palette=\"coolwarm\")\n",
        "plt.xticks(range(3), models)\n",
        "plt.title(\"F1-Scores en Validation Croisée\")\n",
        "plt.ylabel(\"F1-Score\")\n",
        "plt.xlabel(\"Modèles\")\n",
        "plt.grid()\n",
        "plt.show()"
      ],
      "metadata": {
        "id": "108Hy-yMTSKc",
        "colab": {
          "base_uri": "https://localhost:8080/",
          "height": 487
        },
        "outputId": "15035dfb-8705-4f93-d327-4e0a5fd7d23c"
      },
      "execution_count": 57,
      "outputs": [
        {
          "output_type": "display_data",
          "data": {
            "text/plain": [
              "<Figure size 1000x500 with 1 Axes>"
            ],
            "image/png": "[encoded data removed]"
          },
          "metadata": {}
        }
      ]
    },
    {
      "cell_type": "markdown",
      "source": [
        "##### Courbes ROC-AUC"
      ],
      "metadata": {
        "id": "OuJwkwYOTSKc"
      }
    },
    {
      "cell_type": "code",
      "source": [
        "# Calculer les courbes ROC\n",
        "fpr_rf, tpr_rf, _ = roc_curve(y_test_ds, y_pred_rfds,pos_label=2)\n",
        "fpr_lgbm, tpr_lgbm, _ = roc_curve(y_test_ds, y_pred_lgbmds,pos_label=2)\n",
        "fpr_lr, tpr_lr, _ = roc_curve(y_test_ds, y_pred_lrds,pos_label=2)\n",
        "\n",
        "# Calcul des AUC\n",
        "auc_rf = auc(fpr_rf, tpr_rf)\n",
        "auc_lgbm = auc(fpr_lgbm, tpr_lgbm)\n",
        "auc_lr = auc(fpr_lr, tpr_lr)\n",
        "\n",
        "# Tracer les courbes ROC\n",
        "plt.figure(figsize=(8, 6))\n",
        "plt.plot(fpr_rf, tpr_rf, label=f\"Random Forest (AUC = {auc_rf:.2f})\")\n",
        "plt.plot(fpr_lgbm, tpr_lgbm, label=f\"LightGBM (AUC = {auc_lgbm:.2f})\")\n",
        "plt.plot(fpr_lr, tpr_lr, label=f\"Logistic Regression (AUC = {auc_lr:.2f})\")\n",
        "\n",
        "# Diagonale aléatoire\n",
        "plt.plot([0, 1], [0, 1], 'k--')\n",
        "plt.xlabel(\"Taux de Faux Positifs (FPR)\")\n",
        "plt.ylabel(\"Taux de Vrais Positifs (TPR)\")\n",
        "plt.title(\"Courbes ROC des Meilleurs Modèles\")\n",
        "plt.legend()\n",
        "plt.grid()\n",
        "plt.show()"
      ],
      "metadata": {
        "id": "Jn5Z4QetTSKe",
        "colab": {
          "base_uri": "https://localhost:8080/",
          "height": 564
        },
        "outputId": "da821bfa-de0e-4122-e2b7-827558b0a463"
      },
      "execution_count": 58,
      "outputs": [
        {
          "output_type": "display_data",
          "data": {
            "text/plain": [
              "<Figure size 800x600 with 1 Axes>"
            ],
            "image/png": "[encoded data removed]"
          },
          "metadata": {}
        }
      ]
    },
    {
      "cell_type": "markdown",
      "source": [
        "**Interprétation des résultats**\n",
        "D'après le graphique:\n",
        "- **LightGBM** reste le meilleurs cassificateur parmi les 3 **(0.87)**\n",
        "- **Random Forest** est, lui, juste derrière avec un score de **0.86**\n",
        "- **Logistic Regression** est à **0.83** soit un bon classificateur néanmoins.\n",
        "\n",
        "Par rapport aux précédentes courbes, nous avons constaté que le downsampling améliorait la performance de nos modèles mais n'était, dans notre cas, pas aussi pérformant que le upsampling."
      ],
      "metadata": {
        "id": "q-JVij0hmq6C"
      }
    },
    {
      "cell_type": "markdown",
      "source": [
        "## Resultats Globaux"
      ],
      "metadata": {
        "id": "uBgx6kAhhIx0"
      }
    },
    {
      "cell_type": "markdown",
      "source": [
        "### Compliation des courbes ROC-AUC"
      ],
      "metadata": {
        "id": "gghhjIHZhRNn"
      }
    },
    {
      "cell_type": "code",
      "source": [
        "# Calculer les courbes ROC\n",
        "fpr_rfdo, tpr_rfdo, _ = roc_curve(y_test_do, y_pred_rfdo,pos_label=2)\n",
        "fpr_lgbmdo, tpr_lgbmdo, _ = roc_curve(y_test_do, y_pred_lgbmdo,pos_label=2)\n",
        "fpr_lrdo, tpr_lrdo, _ = roc_curve(y_test_do, y_pred_lrdo,pos_label=2)\n",
        "\n",
        "fpr_rfdr, tpr_rfdr, _ = roc_curve(y_test_du, y_pred_rfdr,pos_label=2)\n",
        "fpr_lgbmdr, tpr_lgbmdr, _ = roc_curve(y_test_du, y_pred_lgbmdr,pos_label=2)\n",
        "fpr_lrdr, tpr_lrdr, _ = roc_curve(y_test_du, y_pred_lrdr,pos_label=2)\n",
        "\n",
        "fpr_rfds, tpr_rfds, _ = roc_curve(y_test_ds, y_pred_rfds,pos_label=2)\n",
        "fpr_lgbmds, tpr_lgbmds, _ = roc_curve(y_test_ds, y_pred_lgbmds,pos_label=2)\n",
        "fpr_lrds, tpr_lrds, _ = roc_curve(y_test_ds, y_pred_lrds,pos_label=2)\n",
        "\n",
        "# Calcul des AUC\n",
        "auc_rfdo = auc(fpr_rfdo, tpr_rfdo)\n",
        "auc_lgbmdo = auc(fpr_lgbmdo, tpr_lgbmdo)\n",
        "auc_lrdo = auc(fpr_lrdo, tpr_lrdo)\n",
        "\n",
        "auc_rfdr = auc(fpr_rfdr, tpr_rfdr)\n",
        "auc_lgbmdr = auc(fpr_lgbmdr, tpr_lgbmdr)\n",
        "auc_lrdr = auc(fpr_lrdr, tpr_lrdr)\n",
        "\n",
        "auc_rfds = auc(fpr_rfds, tpr_rfds)\n",
        "auc_lgbmds = auc(fpr_lgbmds, tpr_lgbmds)\n",
        "auc_lrds = auc(fpr_lrds, tpr_lrds)\n",
        "\n",
        "# Tracer les courbes ROC\n",
        "plt.figure(figsize=(8, 6))\n",
        "plt.plot(fpr_rfdo, tpr_rfdo, label=f\"Random Forest Dataset Original (AUC = {auc_rfdo:.2f})\")\n",
        "plt.plot(fpr_lgbmdo, tpr_lgbmdo, label=f\"LightGBM Dataset Original (AUC = {auc_lgbmdo:.2f})\")\n",
        "plt.plot(fpr_lrdo, tpr_lrdo, label=f\"Logistic Regression Dataset Original (AUC = {auc_lrdo:.2f})\")\n",
        "\n",
        "plt.plot(fpr_rfdr, tpr_rfdr, label=f\"Random Forest Dataset Resampled (AUC = {auc_rfdr:.2f})\")\n",
        "plt.plot(fpr_lgbmdr, tpr_lgbmdr, label=f\"LightGBM Dataset Resampled (AUC = {auc_lgbmdr:.2f})\")\n",
        "plt.plot(fpr_lrdr, tpr_lrdr, label=f\"Logistic Regression Dataset Resampled (AUC = {auc_lrdr:.2f})\")\n",
        "\n",
        "plt.plot(fpr_rfds, tpr_rfds, label=f\"Random Forest Dataset Downsampled (AUC = {auc_rfds:.2f})\")\n",
        "plt.plot(fpr_lgbmds, tpr_lgbmds, label=f\"LightGBM Dataset Downsampled (AUC = {auc_lgbmds:.2f})\")\n",
        "plt.plot(fpr_lrds, tpr_lrds, label=f\"Logistic Regression Dataset Downsampled (AUC = {auc_lrds:.2f})\")\n",
        "\n",
        "# Diagonale aléatoire\n",
        "plt.plot([0, 1], [0, 1], 'k--')\n",
        "plt.xlabel(\"Taux de Faux Positifs (FPR)\")\n",
        "plt.ylabel(\"Taux de Vrais Positifs (TPR)\")\n",
        "plt.title(\"Courbes ROC des Meilleurs Modèles\")\n",
        "plt.legend()\n",
        "plt.grid()\n",
        "plt.show()"
      ],
      "metadata": {
        "id": "9BsqhwhehWMA",
        "colab": {
          "base_uri": "https://localhost:8080/",
          "height": 564
        },
        "outputId": "a858d6f3-7f0a-40e5-ec26-d3134a6bee23"
      },
      "execution_count": 86,
      "outputs": [
        {
          "output_type": "display_data",
          "data": {
            "text/plain": [
              "<Figure size 800x600 with 1 Axes>"
            ],
            "image/png": "[encoded data removed]"
          },
          "metadata": {}
        }
      ]
    },
    {
      "cell_type": "markdown",
      "source": [
        "### Interprétation des résultats\n",
        "\n"
      ],
      "metadata": {
        "id": "-mzj5bn4jbWF"
      }
    },
    {
      "cell_type": "markdown",
      "source": [
        "### **Conclusion Générale**\n",
        "| Modèle | Original | Resampled | Downsampled |\n",
        "|--------|----------|-----------|-------------|\n",
        "| **Random Forest** | 0.59 (Médiocre) | **0.94 (Excellente)** | 0.86 (Très bon) |\n",
        "| **LightGBM** | 0.72 (Acceptable) | **0.95 (Excellente)** | 0.87 (Très bon) |\n",
        "| **Régression Logistique** | 0.65 (Moyenne) | **0.85 (Bonne)** | 0.83 (Bon) |\n",
        "\n",
        "**Ce qu'il faut retenir :**\n",
        "1. **Le rééchantillonnage (Resampling -> upsampling) est la meilleure méthode**, car elle améliore significativement l'AUC.\n",
        "2. **Le downsampling fonctionne aussi bien**, mais légèrement moins bien que le resampling.\n",
        "3. **LightGBM est globalement le meilleur modèle**, suivi de près par Random Forest, et enfin la Régression Logistique.\n"
      ],
      "metadata": {
        "id": "xuebur5c7hVE"
      }
    },
    {
      "cell_type": "markdown",
      "source": [],
      "metadata": {
        "id": "wvNeNZlf7hRV"
      }
    }
  ]
}